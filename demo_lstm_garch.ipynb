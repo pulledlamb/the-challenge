{
 "cells": [
  {
   "cell_type": "markdown",
   "id": "6d60f4cc",
   "metadata": {},
   "source": [
    "Inspiration:\n",
    "- Forex exchange rate forecasting using deep recurrent neural networks [https://link.springer.com/article/10.1007/s42521-020-00019-x]\n",
    "- Hybrid LSTM-GARCH [https://www.sciencedirect.com/science/article/abs/pii/S0957417418301416]"
   ]
  },
  {
   "cell_type": "markdown",
   "id": "f941e7c2",
   "metadata": {},
   "source": [
    "## Some data collection and cleaning"
   ]
  },
  {
   "cell_type": "code",
   "execution_count": 70,
   "id": "347e52a8",
   "metadata": {},
   "outputs": [],
   "source": [
    "# a lot of importing\n",
    "import yfinance as yf   \n",
    "import pandas as pd\n",
    "import numpy as np\n",
    "from fredapi import Fred\n",
    "import datetime as dt\n",
    "from urllib.parse import urlparse\n",
    "import os\n",
    "import matplotlib.pyplot as plt\n",
    "from data_processor import DataProcessor\n",
    "from models import ArimaModel, CNNModel, LSTMModel\n",
    "from helper import *\n",
    "from statsmodels.tsa.stattools import adfuller\n",
    "from statsmodels.graphics.tsaplots import plot_acf, plot_pacf\n",
    "import tensorflow as tf\n",
    "from tensorflow.keras.models import Sequential\n",
    "from tensorflow.keras import backend, optimizers\n",
    "from tensorflow.keras.layers import Dropout, Flatten, Dense, Conv1D\n",
    "from tensorflow.keras.callbacks import EarlyStopping\n",
    "from sklearn.metrics import mean_squared_error, mean_absolute_error\n",
    "from arch import arch_model\n",
    "import time\n",
    "import warnings\n",
    "warnings.filterwarnings(\"ignore\")"
   ]
  },
  {
   "cell_type": "code",
   "execution_count": 71,
   "id": "f06ee711",
   "metadata": {},
   "outputs": [],
   "source": [
    "# Ticker symbols mapping\n",
    "# key: Yahoo Finance ticker symbol\n",
    "# value: data frame column name\n",
    "# 'USDJPY=X': 'usdjpy', 'USDCNY=X': 'usdcny', 'BTC-USD': 'btc',\n",
    "\n",
    "ticker_dict = {\n",
    "        'AUDUSD=X': 'audusd',\n",
    "        'TIO=F': 'iron_ore',\n",
    "        'GC=F': 'gold',\n",
    "        '^VIX': 'vix',\n",
    "        'DX=F': 'dxy',\n",
    "    }\n",
    "rates_dict = {\n",
    "    'FEDFUNDS': 'fed_rates',\n",
    "    'FPCPITOTLZGAUS': 'cpi',\n",
    "    'FPCPITOTLZGUSA': 'us_cpi',\n",
    "    'RBA': 'rba_rates',\n",
    "}"
   ]
  },
  {
   "cell_type": "code",
   "execution_count": 72,
   "id": "12cec8d7",
   "metadata": {},
   "outputs": [
    {
     "name": "stdout",
     "output_type": "stream",
     "text": [
      "Data file is outdated, downloading fresh data...\n"
     ]
    },
    {
     "name": "stderr",
     "output_type": "stream",
     "text": [
      "[*********************100%***********************]  1 of 1 completed\n",
      "[*********************100%***********************]  1 of 1 completed\n",
      "ERROR:yfinance:\n",
      "1 Failed download:\n",
      "ERROR:yfinance:['TIO=F']: YFPricesMissingError('possibly delisted; no price data found  (period=180d)')\n"
     ]
    },
    {
     "name": "stdout",
     "output_type": "stream",
     "text": [
      "✓ AUDUSD=X: 4267 records\n",
      "✗ TIO=F: No data\n"
     ]
    },
    {
     "name": "stderr",
     "output_type": "stream",
     "text": [
      "[*********************100%***********************]  1 of 1 completed\n"
     ]
    },
    {
     "name": "stdout",
     "output_type": "stream",
     "text": [
      "✓ GC=F: 3394 records\n"
     ]
    },
    {
     "name": "stderr",
     "output_type": "stream",
     "text": [
      "[*********************100%***********************]  1 of 1 completed\n"
     ]
    },
    {
     "name": "stdout",
     "output_type": "stream",
     "text": [
      "✓ ^VIX: 2433 records\n"
     ]
    },
    {
     "name": "stderr",
     "output_type": "stream",
     "text": [
      "[*********************100%***********************]  1 of 1 completed\n"
     ]
    },
    {
     "name": "stdout",
     "output_type": "stream",
     "text": [
      "✓ DX=F: 3168 records\n",
      "Merging all data...\n",
      "Loading RBA interest rate data...\n",
      "Loading Fed interest rate data...\n",
      "Loading CPI data...\n",
      "2011-01-01    3.303850\n",
      "2012-01-01    1.762780\n",
      "2013-01-01    2.449889\n",
      "2014-01-01    2.487923\n",
      "2015-01-01    1.508367\n",
      "dtype: float64\n",
      "Loading CPI data...\n",
      "2011-01-01    3.156842\n",
      "2012-01-01    2.069337\n",
      "2013-01-01    1.464833\n",
      "2014-01-01    1.622223\n",
      "2015-01-01    0.118627\n",
      "dtype: float64\n",
      "Resetting index:\n",
      "Data exported to data.parquet\n",
      "                       audusd         gold   vix        dxy     sma_5  \\\n",
      "date                                                                    \n",
      "2025-08-21 01:00:00  0.643376  3384.899902  15.7  98.175003  0.643443   \n",
      "2025-08-21 02:00:00  0.642178  3384.899902  15.7  98.175003  0.643178   \n",
      "2025-08-21 03:00:00  0.642385  3384.899902  15.7  98.175003  0.642930   \n",
      "2025-08-21 04:00:00  0.642178  3380.800049  15.7  98.175003  0.642616   \n",
      "2025-08-21 05:00:00  0.642591  3381.000000  15.7  98.184998  0.642542   \n",
      "\n",
      "                       sma_10     ema_5    ema_10  momentum_5  momentum_10  \\\n",
      "date                                                                         \n",
      "2025-08-21 01:00:00  0.643542  0.643395  0.643491   -0.000166     0.000455   \n",
      "2025-08-21 02:00:00  0.643393  0.642990  0.643252   -0.001322    -0.001488   \n",
      "2025-08-21 03:00:00  0.643224  0.642788  0.643094   -0.001240    -0.001696   \n",
      "2025-08-21 04:00:00  0.643104  0.642585  0.642928   -0.001571    -0.001198   \n",
      "2025-08-21 05:00:00  0.643009  0.642587  0.642867   -0.000372    -0.000951   \n",
      "\n",
      "                        std_5    std_10     rsi_14  rates  fed_rates  \\\n",
      "date                                                                   \n",
      "2025-08-21 01:00:00  0.000302  0.000288  50.000000    3.6       4.33   \n",
      "2025-08-21 02:00:00  0.000635  0.000513  32.335773    3.6       4.33   \n",
      "2025-08-21 03:00:00  0.000658  0.000540  44.706370    3.6       4.33   \n",
      "2025-08-21 04:00:00  0.000533  0.000628  40.473572    3.6       4.33   \n",
      "2025-08-21 05:00:00  0.000497  0.000627  47.018593    3.6       4.33   \n",
      "\n",
      "                          cpi    us_cpi  \n",
      "date                                     \n",
      "2025-08-21 01:00:00  3.161614  2.949525  \n",
      "2025-08-21 02:00:00  3.161614  2.949525  \n",
      "2025-08-21 03:00:00  3.161614  2.949525  \n",
      "2025-08-21 04:00:00  3.161614  2.949525  \n",
      "2025-08-21 05:00:00  3.161614  2.949525  \n"
     ]
    }
   ],
   "source": [
    "data_file = f\"./data.parquet\"\n",
    "\n",
    "\n",
    "# Check if data file exists and is recent (e.g., less than 1 hour old)\n",
    "if os.path.exists(data_file):\n",
    "    file_age = dt.datetime.now() - dt.datetime.fromtimestamp(os.path.getmtime(data_file))\n",
    "    \n",
    "    if file_age < dt.timedelta(hours=1):  # Data is fresh\n",
    "        print(f\"Loading existing data from {data_file} (age: {file_age})\")\n",
    "        df = pd.read_parquet(data_file)\n",
    "        df = df.ffill().bfill()  # Fill missing values\n",
    "    else:\n",
    "        print(\"Data file is outdated, downloading fresh data...\")\n",
    "        df = download_and_process(ticker_dict=ticker_dict, data_file=data_file)\n",
    "else:\n",
    "    print(\"No existing data file found, downloading...\")\n",
    "    df = download_and_process(ticker_dict=ticker_dict, data_file=data_file)\n",
    "\n",
    "print(df.tail())"
   ]
  },
  {
   "cell_type": "code",
   "execution_count": 73,
   "id": "df319329",
   "metadata": {},
   "outputs": [],
   "source": [
    "df['Log_Returns'] = np.log(df['audusd'] / df['audusd'].shift(1))\n",
    "df.dropna(inplace=True)"
   ]
  },
  {
   "cell_type": "code",
   "execution_count": 74,
   "id": "d1aaa2eb",
   "metadata": {},
   "outputs": [
    {
     "data": {
      "text/html": [
       "<div>\n",
       "<style scoped>\n",
       "    .dataframe tbody tr th:only-of-type {\n",
       "        vertical-align: middle;\n",
       "    }\n",
       "\n",
       "    .dataframe tbody tr th {\n",
       "        vertical-align: top;\n",
       "    }\n",
       "\n",
       "    .dataframe thead th {\n",
       "        text-align: right;\n",
       "    }\n",
       "</style>\n",
       "<table border=\"1\" class=\"dataframe\">\n",
       "  <thead>\n",
       "    <tr style=\"text-align: right;\">\n",
       "      <th></th>\n",
       "      <th>audusd</th>\n",
       "      <th>gold</th>\n",
       "      <th>vix</th>\n",
       "      <th>dxy</th>\n",
       "      <th>sma_5</th>\n",
       "      <th>sma_10</th>\n",
       "      <th>ema_5</th>\n",
       "      <th>ema_10</th>\n",
       "      <th>momentum_5</th>\n",
       "      <th>momentum_10</th>\n",
       "      <th>std_5</th>\n",
       "      <th>std_10</th>\n",
       "      <th>rsi_14</th>\n",
       "      <th>rates</th>\n",
       "      <th>fed_rates</th>\n",
       "      <th>cpi</th>\n",
       "      <th>us_cpi</th>\n",
       "      <th>Log_Returns</th>\n",
       "    </tr>\n",
       "    <tr>\n",
       "      <th>date</th>\n",
       "      <th></th>\n",
       "      <th></th>\n",
       "      <th></th>\n",
       "      <th></th>\n",
       "      <th></th>\n",
       "      <th></th>\n",
       "      <th></th>\n",
       "      <th></th>\n",
       "      <th></th>\n",
       "      <th></th>\n",
       "      <th></th>\n",
       "      <th></th>\n",
       "      <th></th>\n",
       "      <th></th>\n",
       "      <th></th>\n",
       "      <th></th>\n",
       "      <th></th>\n",
       "      <th></th>\n",
       "    </tr>\n",
       "  </thead>\n",
       "  <tbody>\n",
       "    <tr>\n",
       "      <th>2024-12-12 10:00:00</th>\n",
       "      <td>0.636858</td>\n",
       "      <td>2772.000000</td>\n",
       "      <td>13.760000</td>\n",
       "      <td>107.894997</td>\n",
       "      <td>0.636435</td>\n",
       "      <td>0.636567</td>\n",
       "      <td>0.636858</td>\n",
       "      <td>0.636858</td>\n",
       "      <td>-0.000422</td>\n",
       "      <td>0.000341</td>\n",
       "      <td>0.000400</td>\n",
       "      <td>0.000333</td>\n",
       "      <td>48.163304</td>\n",
       "      <td>4.35</td>\n",
       "      <td>4.48</td>\n",
       "      <td>3.161614</td>\n",
       "      <td>2.949525</td>\n",
       "      <td>0.000000</td>\n",
       "    </tr>\n",
       "    <tr>\n",
       "      <th>2024-12-12 11:00:00</th>\n",
       "      <td>0.636858</td>\n",
       "      <td>2772.000000</td>\n",
       "      <td>13.750000</td>\n",
       "      <td>107.894997</td>\n",
       "      <td>0.636435</td>\n",
       "      <td>0.636567</td>\n",
       "      <td>0.636858</td>\n",
       "      <td>0.636858</td>\n",
       "      <td>-0.000422</td>\n",
       "      <td>0.000341</td>\n",
       "      <td>0.000400</td>\n",
       "      <td>0.000333</td>\n",
       "      <td>48.163304</td>\n",
       "      <td>4.35</td>\n",
       "      <td>4.48</td>\n",
       "      <td>3.161614</td>\n",
       "      <td>2.949525</td>\n",
       "      <td>0.000000</td>\n",
       "    </tr>\n",
       "    <tr>\n",
       "      <th>2024-12-12 12:00:00</th>\n",
       "      <td>0.636858</td>\n",
       "      <td>2772.000000</td>\n",
       "      <td>13.710000</td>\n",
       "      <td>107.894997</td>\n",
       "      <td>0.636435</td>\n",
       "      <td>0.636567</td>\n",
       "      <td>0.636858</td>\n",
       "      <td>0.636858</td>\n",
       "      <td>-0.000422</td>\n",
       "      <td>0.000341</td>\n",
       "      <td>0.000400</td>\n",
       "      <td>0.000333</td>\n",
       "      <td>48.163304</td>\n",
       "      <td>4.35</td>\n",
       "      <td>4.48</td>\n",
       "      <td>3.161614</td>\n",
       "      <td>2.949525</td>\n",
       "      <td>0.000000</td>\n",
       "    </tr>\n",
       "    <tr>\n",
       "      <th>2024-12-12 13:00:00</th>\n",
       "      <td>0.636858</td>\n",
       "      <td>2772.000000</td>\n",
       "      <td>13.660000</td>\n",
       "      <td>107.894997</td>\n",
       "      <td>0.636435</td>\n",
       "      <td>0.636567</td>\n",
       "      <td>0.636858</td>\n",
       "      <td>0.636858</td>\n",
       "      <td>-0.000422</td>\n",
       "      <td>0.000341</td>\n",
       "      <td>0.000400</td>\n",
       "      <td>0.000333</td>\n",
       "      <td>48.163304</td>\n",
       "      <td>4.35</td>\n",
       "      <td>4.48</td>\n",
       "      <td>3.161614</td>\n",
       "      <td>2.949525</td>\n",
       "      <td>0.000000</td>\n",
       "    </tr>\n",
       "    <tr>\n",
       "      <th>2024-12-12 14:00:00</th>\n",
       "      <td>0.636858</td>\n",
       "      <td>2772.000000</td>\n",
       "      <td>13.790000</td>\n",
       "      <td>107.894997</td>\n",
       "      <td>0.636435</td>\n",
       "      <td>0.636567</td>\n",
       "      <td>0.636858</td>\n",
       "      <td>0.636858</td>\n",
       "      <td>-0.000422</td>\n",
       "      <td>0.000341</td>\n",
       "      <td>0.000400</td>\n",
       "      <td>0.000333</td>\n",
       "      <td>48.163304</td>\n",
       "      <td>4.35</td>\n",
       "      <td>4.48</td>\n",
       "      <td>3.161614</td>\n",
       "      <td>2.949525</td>\n",
       "      <td>0.000000</td>\n",
       "    </tr>\n",
       "    <tr>\n",
       "      <th>...</th>\n",
       "      <td>...</td>\n",
       "      <td>...</td>\n",
       "      <td>...</td>\n",
       "      <td>...</td>\n",
       "      <td>...</td>\n",
       "      <td>...</td>\n",
       "      <td>...</td>\n",
       "      <td>...</td>\n",
       "      <td>...</td>\n",
       "      <td>...</td>\n",
       "      <td>...</td>\n",
       "      <td>...</td>\n",
       "      <td>...</td>\n",
       "      <td>...</td>\n",
       "      <td>...</td>\n",
       "      <td>...</td>\n",
       "      <td>...</td>\n",
       "      <td>...</td>\n",
       "    </tr>\n",
       "    <tr>\n",
       "      <th>2025-02-21 18:00:00</th>\n",
       "      <td>0.636088</td>\n",
       "      <td>2958.500000</td>\n",
       "      <td>17.950001</td>\n",
       "      <td>106.529999</td>\n",
       "      <td>0.637417</td>\n",
       "      <td>0.638021</td>\n",
       "      <td>0.637200</td>\n",
       "      <td>0.637798</td>\n",
       "      <td>-0.002400</td>\n",
       "      <td>-0.002421</td>\n",
       "      <td>0.000941</td>\n",
       "      <td>0.000899</td>\n",
       "      <td>18.223517</td>\n",
       "      <td>4.10</td>\n",
       "      <td>4.33</td>\n",
       "      <td>3.161614</td>\n",
       "      <td>2.949525</td>\n",
       "      <td>-0.001725</td>\n",
       "    </tr>\n",
       "    <tr>\n",
       "      <th>2025-02-21 19:00:00</th>\n",
       "      <td>0.635457</td>\n",
       "      <td>2947.399902</td>\n",
       "      <td>18.600000</td>\n",
       "      <td>106.519997</td>\n",
       "      <td>0.636765</td>\n",
       "      <td>0.637698</td>\n",
       "      <td>0.636619</td>\n",
       "      <td>0.637373</td>\n",
       "      <td>-0.003259</td>\n",
       "      <td>-0.003231</td>\n",
       "      <td>0.000945</td>\n",
       "      <td>0.001172</td>\n",
       "      <td>18.686675</td>\n",
       "      <td>4.10</td>\n",
       "      <td>4.33</td>\n",
       "      <td>3.161614</td>\n",
       "      <td>2.949525</td>\n",
       "      <td>-0.000992</td>\n",
       "    </tr>\n",
       "    <tr>\n",
       "      <th>2025-02-21 20:00:00</th>\n",
       "      <td>0.635849</td>\n",
       "      <td>2948.399902</td>\n",
       "      <td>18.379999</td>\n",
       "      <td>106.535004</td>\n",
       "      <td>0.636427</td>\n",
       "      <td>0.637415</td>\n",
       "      <td>0.636363</td>\n",
       "      <td>0.637096</td>\n",
       "      <td>-0.001690</td>\n",
       "      <td>-0.002831</td>\n",
       "      <td>0.000900</td>\n",
       "      <td>0.001248</td>\n",
       "      <td>25.329269</td>\n",
       "      <td>4.10</td>\n",
       "      <td>4.33</td>\n",
       "      <td>3.161614</td>\n",
       "      <td>2.949525</td>\n",
       "      <td>0.000617</td>\n",
       "    </tr>\n",
       "    <tr>\n",
       "      <th>2025-02-21 21:00:00</th>\n",
       "      <td>0.636116</td>\n",
       "      <td>2949.600098</td>\n",
       "      <td>18.209999</td>\n",
       "      <td>106.544998</td>\n",
       "      <td>0.636139</td>\n",
       "      <td>0.637144</td>\n",
       "      <td>0.636280</td>\n",
       "      <td>0.636918</td>\n",
       "      <td>-0.001440</td>\n",
       "      <td>-0.002702</td>\n",
       "      <td>0.000642</td>\n",
       "      <td>0.001202</td>\n",
       "      <td>22.968152</td>\n",
       "      <td>4.10</td>\n",
       "      <td>4.33</td>\n",
       "      <td>3.161614</td>\n",
       "      <td>2.949525</td>\n",
       "      <td>0.000420</td>\n",
       "    </tr>\n",
       "    <tr>\n",
       "      <th>2025-02-21 22:00:00</th>\n",
       "      <td>0.635930</td>\n",
       "      <td>2949.600098</td>\n",
       "      <td>18.209999</td>\n",
       "      <td>106.544998</td>\n",
       "      <td>0.635888</td>\n",
       "      <td>0.636893</td>\n",
       "      <td>0.636164</td>\n",
       "      <td>0.636738</td>\n",
       "      <td>-0.001256</td>\n",
       "      <td>-0.002517</td>\n",
       "      <td>0.000265</td>\n",
       "      <td>0.001162</td>\n",
       "      <td>24.738379</td>\n",
       "      <td>4.10</td>\n",
       "      <td>4.33</td>\n",
       "      <td>3.161614</td>\n",
       "      <td>2.949525</td>\n",
       "      <td>-0.000293</td>\n",
       "    </tr>\n",
       "  </tbody>\n",
       "</table>\n",
       "<p>1229 rows × 18 columns</p>\n",
       "</div>"
      ],
      "text/plain": [
       "                       audusd         gold        vix         dxy     sma_5  \\\n",
       "date                                                                          \n",
       "2024-12-12 10:00:00  0.636858  2772.000000  13.760000  107.894997  0.636435   \n",
       "2024-12-12 11:00:00  0.636858  2772.000000  13.750000  107.894997  0.636435   \n",
       "2024-12-12 12:00:00  0.636858  2772.000000  13.710000  107.894997  0.636435   \n",
       "2024-12-12 13:00:00  0.636858  2772.000000  13.660000  107.894997  0.636435   \n",
       "2024-12-12 14:00:00  0.636858  2772.000000  13.790000  107.894997  0.636435   \n",
       "...                       ...          ...        ...         ...       ...   \n",
       "2025-02-21 18:00:00  0.636088  2958.500000  17.950001  106.529999  0.637417   \n",
       "2025-02-21 19:00:00  0.635457  2947.399902  18.600000  106.519997  0.636765   \n",
       "2025-02-21 20:00:00  0.635849  2948.399902  18.379999  106.535004  0.636427   \n",
       "2025-02-21 21:00:00  0.636116  2949.600098  18.209999  106.544998  0.636139   \n",
       "2025-02-21 22:00:00  0.635930  2949.600098  18.209999  106.544998  0.635888   \n",
       "\n",
       "                       sma_10     ema_5    ema_10  momentum_5  momentum_10  \\\n",
       "date                                                                         \n",
       "2024-12-12 10:00:00  0.636567  0.636858  0.636858   -0.000422     0.000341   \n",
       "2024-12-12 11:00:00  0.636567  0.636858  0.636858   -0.000422     0.000341   \n",
       "2024-12-12 12:00:00  0.636567  0.636858  0.636858   -0.000422     0.000341   \n",
       "2024-12-12 13:00:00  0.636567  0.636858  0.636858   -0.000422     0.000341   \n",
       "2024-12-12 14:00:00  0.636567  0.636858  0.636858   -0.000422     0.000341   \n",
       "...                       ...       ...       ...         ...          ...   \n",
       "2025-02-21 18:00:00  0.638021  0.637200  0.637798   -0.002400    -0.002421   \n",
       "2025-02-21 19:00:00  0.637698  0.636619  0.637373   -0.003259    -0.003231   \n",
       "2025-02-21 20:00:00  0.637415  0.636363  0.637096   -0.001690    -0.002831   \n",
       "2025-02-21 21:00:00  0.637144  0.636280  0.636918   -0.001440    -0.002702   \n",
       "2025-02-21 22:00:00  0.636893  0.636164  0.636738   -0.001256    -0.002517   \n",
       "\n",
       "                        std_5    std_10     rsi_14  rates  fed_rates  \\\n",
       "date                                                                   \n",
       "2024-12-12 10:00:00  0.000400  0.000333  48.163304   4.35       4.48   \n",
       "2024-12-12 11:00:00  0.000400  0.000333  48.163304   4.35       4.48   \n",
       "2024-12-12 12:00:00  0.000400  0.000333  48.163304   4.35       4.48   \n",
       "2024-12-12 13:00:00  0.000400  0.000333  48.163304   4.35       4.48   \n",
       "2024-12-12 14:00:00  0.000400  0.000333  48.163304   4.35       4.48   \n",
       "...                       ...       ...        ...    ...        ...   \n",
       "2025-02-21 18:00:00  0.000941  0.000899  18.223517   4.10       4.33   \n",
       "2025-02-21 19:00:00  0.000945  0.001172  18.686675   4.10       4.33   \n",
       "2025-02-21 20:00:00  0.000900  0.001248  25.329269   4.10       4.33   \n",
       "2025-02-21 21:00:00  0.000642  0.001202  22.968152   4.10       4.33   \n",
       "2025-02-21 22:00:00  0.000265  0.001162  24.738379   4.10       4.33   \n",
       "\n",
       "                          cpi    us_cpi  Log_Returns  \n",
       "date                                                  \n",
       "2024-12-12 10:00:00  3.161614  2.949525     0.000000  \n",
       "2024-12-12 11:00:00  3.161614  2.949525     0.000000  \n",
       "2024-12-12 12:00:00  3.161614  2.949525     0.000000  \n",
       "2024-12-12 13:00:00  3.161614  2.949525     0.000000  \n",
       "2024-12-12 14:00:00  3.161614  2.949525     0.000000  \n",
       "...                       ...       ...          ...  \n",
       "2025-02-21 18:00:00  3.161614  2.949525    -0.001725  \n",
       "2025-02-21 19:00:00  3.161614  2.949525    -0.000992  \n",
       "2025-02-21 20:00:00  3.161614  2.949525     0.000617  \n",
       "2025-02-21 21:00:00  3.161614  2.949525     0.000420  \n",
       "2025-02-21 22:00:00  3.161614  2.949525    -0.000293  \n",
       "\n",
       "[1229 rows x 18 columns]"
      ]
     },
     "execution_count": 74,
     "metadata": {},
     "output_type": "execute_result"
    }
   ],
   "source": [
    "X = df[df.first_valid_index():df.last_valid_index() - dt.timedelta(180)]\n",
    "\n",
    "X"
   ]
  },
  {
   "cell_type": "code",
   "execution_count": 75,
   "id": "b08d50e8",
   "metadata": {},
   "outputs": [
    {
     "name": "stdout",
     "output_type": "stream",
     "text": [
      "                     Constant Mean - GARCH Model Results                      \n",
      "==============================================================================\n",
      "Dep. Variable:            Log_Returns   R-squared:                       0.000\n",
      "Mean Model:             Constant Mean   Adj. R-squared:                  0.000\n",
      "Vol Model:                      GARCH   Log-Likelihood:                819.975\n",
      "Distribution:                  Normal   AIC:                          -1631.95\n",
      "Method:            Maximum Likelihood   BIC:                          -1611.49\n",
      "                                        No. Observations:                 1229\n",
      "Date:                Thu, Aug 21 2025   Df Residuals:                     1228\n",
      "Time:                        15:38:57   Df Model:                            1\n",
      "                                  Mean Model                                  \n",
      "==============================================================================\n",
      "                  coef    std err          t      P>|t|       95.0% Conf. Int.\n",
      "------------------------------------------------------------------------------\n",
      "mu         -1.1732e-03  3.136e-03     -0.374      0.708 [-7.320e-03,4.973e-03]\n",
      "                              Volatility Model                              \n",
      "============================================================================\n",
      "                 coef    std err          t      P>|t|      95.0% Conf. Int.\n",
      "----------------------------------------------------------------------------\n",
      "omega      7.2315e-04  3.270e-04      2.212  2.700e-02 [8.227e-05,1.364e-03]\n",
      "alpha[1]       0.0867  5.383e-02      1.610      0.107  [-1.884e-02,  0.192]\n",
      "beta[1]        0.8841  2.455e-02     36.011 5.535e-284     [  0.836,  0.932]\n",
      "============================================================================\n",
      "\n",
      "Covariance estimator: robust\n"
     ]
    }
   ],
   "source": [
    "# Building a GARCH model using arch package\n",
    "# Convert log returns to percentage returns for better numerical stability\n",
    "returns = X['Log_Returns'].dropna() * 100\n",
    "\n",
    "# Create GARCH(1,1) model\n",
    "GARCH_model = arch_model(returns, vol='Garch', p=1, q=1)\n",
    "\n",
    "# Fit the model\n",
    "garch_fit = GARCH_model.fit(disp='off')\n",
    "\n",
    "print(garch_fit.summary())"
   ]
  },
  {
   "cell_type": "markdown",
   "id": "3ffc8a54",
   "metadata": {},
   "source": [
    "- Parameters are significant "
   ]
  },
  {
   "cell_type": "code",
   "execution_count": 76,
   "id": "293f656a",
   "metadata": {},
   "outputs": [
    {
     "name": "stdout",
     "output_type": "stream",
     "text": [
      "                     GARCH_rolling_predictions\n",
      "date                                          \n",
      "2024-12-12 10:00:00                   0.000604\n",
      "2024-12-12 11:00:00                   0.000629\n",
      "2024-12-12 12:00:00                   0.000649\n",
      "2024-12-12 13:00:00                   0.000667\n",
      "2024-12-12 14:00:00                   0.000683\n"
     ]
    }
   ],
   "source": [
    "# Making rolling predictions using the GARCH Model\n",
    "# Get conditional volatility from the fitted model\n",
    "conditional_volatility = garch_fit.conditional_volatility\n",
    "\n",
    "# Create a DataFrame with the rolling predictions\n",
    "GARCH_rolling_predictions = pd.DataFrame(\n",
    "    conditional_volatility.values / 100,  # Convert back to decimal\n",
    "    index=conditional_volatility.index,\n",
    "    columns=['GARCH_rolling_predictions']\n",
    ")\n",
    "\n",
    "print(GARCH_rolling_predictions.head())"
   ]
  },
  {
   "cell_type": "code",
   "execution_count": 77,
   "id": "f610cd6f",
   "metadata": {},
   "outputs": [
    {
     "name": "stdout",
     "output_type": "stream",
     "text": [
      "                     GARCH_forward_looking_predictions\n",
      "2025-02-21 23:00:00                           0.001070\n",
      "2025-02-22 00:00:00                           0.001088\n",
      "2025-02-22 01:00:00                           0.001105\n",
      "2025-02-22 02:00:00                           0.001122\n",
      "2025-02-22 03:00:00                           0.001138\n"
     ]
    }
   ],
   "source": [
    "# Making forward-looking predictions using the GARCH Model\n",
    "# Forecast volatility for the next 1500 periods\n",
    "forecast = garch_fit.forecast(horizon=30)\n",
    "\n",
    "# Extract the variance forecast and convert to volatility\n",
    "variance_forecast = forecast.variance.iloc[-1, :]\n",
    "volatility_forecast = np.sqrt(variance_forecast) / 100  # Convert to decimal\n",
    "\n",
    "# Create DataFrame for forward-looking predictions\n",
    "future_dates = pd.date_range(start=X.index[-1] + pd.Timedelta(hours=1), periods=30, freq='H')\n",
    "GARCH_forward_looking_predictions = pd.DataFrame(\n",
    "    volatility_forecast.values,\n",
    "    index=future_dates,\n",
    "    columns=['GARCH_forward_looking_predictions']\n",
    ")\n",
    "\n",
    "print(GARCH_forward_looking_predictions.head())"
   ]
  },
  {
   "cell_type": "code",
   "execution_count": 78,
   "id": "81b578c1",
   "metadata": {},
   "outputs": [
    {
     "name": "stdout",
     "output_type": "stream",
     "text": [
      "GARCH predictions ready for concatenation\n",
      "Rolling predictions shape: (1229, 1)\n",
      "Forward predictions shape: (30, 1)\n"
     ]
    }
   ],
   "source": [
    "# Column names are already correct from the arch implementation\n",
    "# No renaming needed as we created the DataFrames with the correct column names\n",
    "print(\"GARCH predictions ready for concatenation\")\n",
    "print(\"Rolling predictions shape:\", GARCH_rolling_predictions.shape)\n",
    "print(\"Forward predictions shape:\", GARCH_forward_looking_predictions.shape)"
   ]
  },
  {
   "cell_type": "code",
   "execution_count": 79,
   "id": "eccf210c",
   "metadata": {},
   "outputs": [],
   "source": [
    "df = pd.concat([df, GARCH_rolling_predictions], axis=1)\n",
    "df = pd.concat([df, GARCH_forward_looking_predictions], axis=1)"
   ]
  },
  {
   "cell_type": "code",
   "execution_count": 80,
   "id": "58a19d43",
   "metadata": {},
   "outputs": [],
   "source": [
    "df['GARCH_forward_looking_predictions'] =  df['GARCH_forward_looking_predictions'].fillna(0)\n",
    "df['GARCH_rolling_predictions'] =  df['GARCH_rolling_predictions'].fillna(0)"
   ]
  },
  {
   "cell_type": "code",
   "execution_count": 81,
   "id": "2a98ce08",
   "metadata": {},
   "outputs": [
    {
     "data": {
      "text/html": [
       "<div>\n",
       "<style scoped>\n",
       "    .dataframe tbody tr th:only-of-type {\n",
       "        vertical-align: middle;\n",
       "    }\n",
       "\n",
       "    .dataframe tbody tr th {\n",
       "        vertical-align: top;\n",
       "    }\n",
       "\n",
       "    .dataframe thead th {\n",
       "        text-align: right;\n",
       "    }\n",
       "</style>\n",
       "<table border=\"1\" class=\"dataframe\">\n",
       "  <thead>\n",
       "    <tr style=\"text-align: right;\">\n",
       "      <th></th>\n",
       "      <th>audusd</th>\n",
       "      <th>gold</th>\n",
       "      <th>vix</th>\n",
       "      <th>dxy</th>\n",
       "      <th>sma_5</th>\n",
       "      <th>sma_10</th>\n",
       "      <th>ema_5</th>\n",
       "      <th>ema_10</th>\n",
       "      <th>momentum_5</th>\n",
       "      <th>momentum_10</th>\n",
       "      <th>std_5</th>\n",
       "      <th>std_10</th>\n",
       "      <th>rsi_14</th>\n",
       "      <th>rates</th>\n",
       "      <th>fed_rates</th>\n",
       "      <th>cpi</th>\n",
       "      <th>us_cpi</th>\n",
       "      <th>Log_Returns</th>\n",
       "      <th>GARCH_rolling_predictions</th>\n",
       "      <th>GARCH_forward_looking_predictions</th>\n",
       "    </tr>\n",
       "  </thead>\n",
       "  <tbody>\n",
       "    <tr>\n",
       "      <th>2024-12-12 10:00:00</th>\n",
       "      <td>0.636858</td>\n",
       "      <td>2772.000000</td>\n",
       "      <td>13.76</td>\n",
       "      <td>107.894997</td>\n",
       "      <td>0.636435</td>\n",
       "      <td>0.636567</td>\n",
       "      <td>0.636858</td>\n",
       "      <td>0.636858</td>\n",
       "      <td>-0.000422</td>\n",
       "      <td>0.000341</td>\n",
       "      <td>0.000400</td>\n",
       "      <td>0.000333</td>\n",
       "      <td>48.163304</td>\n",
       "      <td>4.35</td>\n",
       "      <td>4.48</td>\n",
       "      <td>3.161614</td>\n",
       "      <td>2.949525</td>\n",
       "      <td>0.000000</td>\n",
       "      <td>0.000604</td>\n",
       "      <td>0.0</td>\n",
       "    </tr>\n",
       "    <tr>\n",
       "      <th>2024-12-12 11:00:00</th>\n",
       "      <td>0.636858</td>\n",
       "      <td>2772.000000</td>\n",
       "      <td>13.75</td>\n",
       "      <td>107.894997</td>\n",
       "      <td>0.636435</td>\n",
       "      <td>0.636567</td>\n",
       "      <td>0.636858</td>\n",
       "      <td>0.636858</td>\n",
       "      <td>-0.000422</td>\n",
       "      <td>0.000341</td>\n",
       "      <td>0.000400</td>\n",
       "      <td>0.000333</td>\n",
       "      <td>48.163304</td>\n",
       "      <td>4.35</td>\n",
       "      <td>4.48</td>\n",
       "      <td>3.161614</td>\n",
       "      <td>2.949525</td>\n",
       "      <td>0.000000</td>\n",
       "      <td>0.000629</td>\n",
       "      <td>0.0</td>\n",
       "    </tr>\n",
       "    <tr>\n",
       "      <th>2024-12-12 12:00:00</th>\n",
       "      <td>0.636858</td>\n",
       "      <td>2772.000000</td>\n",
       "      <td>13.71</td>\n",
       "      <td>107.894997</td>\n",
       "      <td>0.636435</td>\n",
       "      <td>0.636567</td>\n",
       "      <td>0.636858</td>\n",
       "      <td>0.636858</td>\n",
       "      <td>-0.000422</td>\n",
       "      <td>0.000341</td>\n",
       "      <td>0.000400</td>\n",
       "      <td>0.000333</td>\n",
       "      <td>48.163304</td>\n",
       "      <td>4.35</td>\n",
       "      <td>4.48</td>\n",
       "      <td>3.161614</td>\n",
       "      <td>2.949525</td>\n",
       "      <td>0.000000</td>\n",
       "      <td>0.000649</td>\n",
       "      <td>0.0</td>\n",
       "    </tr>\n",
       "    <tr>\n",
       "      <th>2024-12-12 13:00:00</th>\n",
       "      <td>0.636858</td>\n",
       "      <td>2772.000000</td>\n",
       "      <td>13.66</td>\n",
       "      <td>107.894997</td>\n",
       "      <td>0.636435</td>\n",
       "      <td>0.636567</td>\n",
       "      <td>0.636858</td>\n",
       "      <td>0.636858</td>\n",
       "      <td>-0.000422</td>\n",
       "      <td>0.000341</td>\n",
       "      <td>0.000400</td>\n",
       "      <td>0.000333</td>\n",
       "      <td>48.163304</td>\n",
       "      <td>4.35</td>\n",
       "      <td>4.48</td>\n",
       "      <td>3.161614</td>\n",
       "      <td>2.949525</td>\n",
       "      <td>0.000000</td>\n",
       "      <td>0.000667</td>\n",
       "      <td>0.0</td>\n",
       "    </tr>\n",
       "    <tr>\n",
       "      <th>2024-12-12 14:00:00</th>\n",
       "      <td>0.636858</td>\n",
       "      <td>2772.000000</td>\n",
       "      <td>13.79</td>\n",
       "      <td>107.894997</td>\n",
       "      <td>0.636435</td>\n",
       "      <td>0.636567</td>\n",
       "      <td>0.636858</td>\n",
       "      <td>0.636858</td>\n",
       "      <td>-0.000422</td>\n",
       "      <td>0.000341</td>\n",
       "      <td>0.000400</td>\n",
       "      <td>0.000333</td>\n",
       "      <td>48.163304</td>\n",
       "      <td>4.35</td>\n",
       "      <td>4.48</td>\n",
       "      <td>3.161614</td>\n",
       "      <td>2.949525</td>\n",
       "      <td>0.000000</td>\n",
       "      <td>0.000683</td>\n",
       "      <td>0.0</td>\n",
       "    </tr>\n",
       "    <tr>\n",
       "      <th>...</th>\n",
       "      <td>...</td>\n",
       "      <td>...</td>\n",
       "      <td>...</td>\n",
       "      <td>...</td>\n",
       "      <td>...</td>\n",
       "      <td>...</td>\n",
       "      <td>...</td>\n",
       "      <td>...</td>\n",
       "      <td>...</td>\n",
       "      <td>...</td>\n",
       "      <td>...</td>\n",
       "      <td>...</td>\n",
       "      <td>...</td>\n",
       "      <td>...</td>\n",
       "      <td>...</td>\n",
       "      <td>...</td>\n",
       "      <td>...</td>\n",
       "      <td>...</td>\n",
       "      <td>...</td>\n",
       "      <td>...</td>\n",
       "    </tr>\n",
       "    <tr>\n",
       "      <th>2025-08-21 01:00:00</th>\n",
       "      <td>0.643376</td>\n",
       "      <td>3384.899902</td>\n",
       "      <td>15.70</td>\n",
       "      <td>98.175003</td>\n",
       "      <td>0.643443</td>\n",
       "      <td>0.643542</td>\n",
       "      <td>0.643395</td>\n",
       "      <td>0.643491</td>\n",
       "      <td>-0.000166</td>\n",
       "      <td>0.000455</td>\n",
       "      <td>0.000302</td>\n",
       "      <td>0.000288</td>\n",
       "      <td>50.000000</td>\n",
       "      <td>3.60</td>\n",
       "      <td>4.33</td>\n",
       "      <td>3.161614</td>\n",
       "      <td>2.949525</td>\n",
       "      <td>0.000643</td>\n",
       "      <td>0.000000</td>\n",
       "      <td>0.0</td>\n",
       "    </tr>\n",
       "    <tr>\n",
       "      <th>2025-08-21 02:00:00</th>\n",
       "      <td>0.642178</td>\n",
       "      <td>3384.899902</td>\n",
       "      <td>15.70</td>\n",
       "      <td>98.175003</td>\n",
       "      <td>0.643178</td>\n",
       "      <td>0.643393</td>\n",
       "      <td>0.642990</td>\n",
       "      <td>0.643252</td>\n",
       "      <td>-0.001322</td>\n",
       "      <td>-0.001488</td>\n",
       "      <td>0.000635</td>\n",
       "      <td>0.000513</td>\n",
       "      <td>32.335773</td>\n",
       "      <td>3.60</td>\n",
       "      <td>4.33</td>\n",
       "      <td>3.161614</td>\n",
       "      <td>2.949525</td>\n",
       "      <td>-0.001864</td>\n",
       "      <td>0.000000</td>\n",
       "      <td>0.0</td>\n",
       "    </tr>\n",
       "    <tr>\n",
       "      <th>2025-08-21 03:00:00</th>\n",
       "      <td>0.642385</td>\n",
       "      <td>3384.899902</td>\n",
       "      <td>15.70</td>\n",
       "      <td>98.175003</td>\n",
       "      <td>0.642930</td>\n",
       "      <td>0.643224</td>\n",
       "      <td>0.642788</td>\n",
       "      <td>0.643094</td>\n",
       "      <td>-0.001240</td>\n",
       "      <td>-0.001696</td>\n",
       "      <td>0.000658</td>\n",
       "      <td>0.000540</td>\n",
       "      <td>44.706370</td>\n",
       "      <td>3.60</td>\n",
       "      <td>4.33</td>\n",
       "      <td>3.161614</td>\n",
       "      <td>2.949525</td>\n",
       "      <td>0.000321</td>\n",
       "      <td>0.000000</td>\n",
       "      <td>0.0</td>\n",
       "    </tr>\n",
       "    <tr>\n",
       "      <th>2025-08-21 04:00:00</th>\n",
       "      <td>0.642178</td>\n",
       "      <td>3380.800049</td>\n",
       "      <td>15.70</td>\n",
       "      <td>98.175003</td>\n",
       "      <td>0.642616</td>\n",
       "      <td>0.643104</td>\n",
       "      <td>0.642585</td>\n",
       "      <td>0.642928</td>\n",
       "      <td>-0.001571</td>\n",
       "      <td>-0.001198</td>\n",
       "      <td>0.000533</td>\n",
       "      <td>0.000628</td>\n",
       "      <td>40.473572</td>\n",
       "      <td>3.60</td>\n",
       "      <td>4.33</td>\n",
       "      <td>3.161614</td>\n",
       "      <td>2.949525</td>\n",
       "      <td>-0.000321</td>\n",
       "      <td>0.000000</td>\n",
       "      <td>0.0</td>\n",
       "    </tr>\n",
       "    <tr>\n",
       "      <th>2025-08-21 05:00:00</th>\n",
       "      <td>0.642591</td>\n",
       "      <td>3381.000000</td>\n",
       "      <td>15.70</td>\n",
       "      <td>98.184998</td>\n",
       "      <td>0.642542</td>\n",
       "      <td>0.643009</td>\n",
       "      <td>0.642587</td>\n",
       "      <td>0.642867</td>\n",
       "      <td>-0.000372</td>\n",
       "      <td>-0.000951</td>\n",
       "      <td>0.000497</td>\n",
       "      <td>0.000627</td>\n",
       "      <td>47.018593</td>\n",
       "      <td>3.60</td>\n",
       "      <td>4.33</td>\n",
       "      <td>3.161614</td>\n",
       "      <td>2.949525</td>\n",
       "      <td>0.000642</td>\n",
       "      <td>0.000000</td>\n",
       "      <td>0.0</td>\n",
       "    </tr>\n",
       "  </tbody>\n",
       "</table>\n",
       "<p>4346 rows × 20 columns</p>\n",
       "</div>"
      ],
      "text/plain": [
       "                       audusd         gold    vix         dxy     sma_5  \\\n",
       "2024-12-12 10:00:00  0.636858  2772.000000  13.76  107.894997  0.636435   \n",
       "2024-12-12 11:00:00  0.636858  2772.000000  13.75  107.894997  0.636435   \n",
       "2024-12-12 12:00:00  0.636858  2772.000000  13.71  107.894997  0.636435   \n",
       "2024-12-12 13:00:00  0.636858  2772.000000  13.66  107.894997  0.636435   \n",
       "2024-12-12 14:00:00  0.636858  2772.000000  13.79  107.894997  0.636435   \n",
       "...                       ...          ...    ...         ...       ...   \n",
       "2025-08-21 01:00:00  0.643376  3384.899902  15.70   98.175003  0.643443   \n",
       "2025-08-21 02:00:00  0.642178  3384.899902  15.70   98.175003  0.643178   \n",
       "2025-08-21 03:00:00  0.642385  3384.899902  15.70   98.175003  0.642930   \n",
       "2025-08-21 04:00:00  0.642178  3380.800049  15.70   98.175003  0.642616   \n",
       "2025-08-21 05:00:00  0.642591  3381.000000  15.70   98.184998  0.642542   \n",
       "\n",
       "                       sma_10     ema_5    ema_10  momentum_5  momentum_10  \\\n",
       "2024-12-12 10:00:00  0.636567  0.636858  0.636858   -0.000422     0.000341   \n",
       "2024-12-12 11:00:00  0.636567  0.636858  0.636858   -0.000422     0.000341   \n",
       "2024-12-12 12:00:00  0.636567  0.636858  0.636858   -0.000422     0.000341   \n",
       "2024-12-12 13:00:00  0.636567  0.636858  0.636858   -0.000422     0.000341   \n",
       "2024-12-12 14:00:00  0.636567  0.636858  0.636858   -0.000422     0.000341   \n",
       "...                       ...       ...       ...         ...          ...   \n",
       "2025-08-21 01:00:00  0.643542  0.643395  0.643491   -0.000166     0.000455   \n",
       "2025-08-21 02:00:00  0.643393  0.642990  0.643252   -0.001322    -0.001488   \n",
       "2025-08-21 03:00:00  0.643224  0.642788  0.643094   -0.001240    -0.001696   \n",
       "2025-08-21 04:00:00  0.643104  0.642585  0.642928   -0.001571    -0.001198   \n",
       "2025-08-21 05:00:00  0.643009  0.642587  0.642867   -0.000372    -0.000951   \n",
       "\n",
       "                        std_5    std_10     rsi_14  rates  fed_rates  \\\n",
       "2024-12-12 10:00:00  0.000400  0.000333  48.163304   4.35       4.48   \n",
       "2024-12-12 11:00:00  0.000400  0.000333  48.163304   4.35       4.48   \n",
       "2024-12-12 12:00:00  0.000400  0.000333  48.163304   4.35       4.48   \n",
       "2024-12-12 13:00:00  0.000400  0.000333  48.163304   4.35       4.48   \n",
       "2024-12-12 14:00:00  0.000400  0.000333  48.163304   4.35       4.48   \n",
       "...                       ...       ...        ...    ...        ...   \n",
       "2025-08-21 01:00:00  0.000302  0.000288  50.000000   3.60       4.33   \n",
       "2025-08-21 02:00:00  0.000635  0.000513  32.335773   3.60       4.33   \n",
       "2025-08-21 03:00:00  0.000658  0.000540  44.706370   3.60       4.33   \n",
       "2025-08-21 04:00:00  0.000533  0.000628  40.473572   3.60       4.33   \n",
       "2025-08-21 05:00:00  0.000497  0.000627  47.018593   3.60       4.33   \n",
       "\n",
       "                          cpi    us_cpi  Log_Returns  \\\n",
       "2024-12-12 10:00:00  3.161614  2.949525     0.000000   \n",
       "2024-12-12 11:00:00  3.161614  2.949525     0.000000   \n",
       "2024-12-12 12:00:00  3.161614  2.949525     0.000000   \n",
       "2024-12-12 13:00:00  3.161614  2.949525     0.000000   \n",
       "2024-12-12 14:00:00  3.161614  2.949525     0.000000   \n",
       "...                       ...       ...          ...   \n",
       "2025-08-21 01:00:00  3.161614  2.949525     0.000643   \n",
       "2025-08-21 02:00:00  3.161614  2.949525    -0.001864   \n",
       "2025-08-21 03:00:00  3.161614  2.949525     0.000321   \n",
       "2025-08-21 04:00:00  3.161614  2.949525    -0.000321   \n",
       "2025-08-21 05:00:00  3.161614  2.949525     0.000642   \n",
       "\n",
       "                     GARCH_rolling_predictions  \\\n",
       "2024-12-12 10:00:00                   0.000604   \n",
       "2024-12-12 11:00:00                   0.000629   \n",
       "2024-12-12 12:00:00                   0.000649   \n",
       "2024-12-12 13:00:00                   0.000667   \n",
       "2024-12-12 14:00:00                   0.000683   \n",
       "...                                        ...   \n",
       "2025-08-21 01:00:00                   0.000000   \n",
       "2025-08-21 02:00:00                   0.000000   \n",
       "2025-08-21 03:00:00                   0.000000   \n",
       "2025-08-21 04:00:00                   0.000000   \n",
       "2025-08-21 05:00:00                   0.000000   \n",
       "\n",
       "                     GARCH_forward_looking_predictions  \n",
       "2024-12-12 10:00:00                                0.0  \n",
       "2024-12-12 11:00:00                                0.0  \n",
       "2024-12-12 12:00:00                                0.0  \n",
       "2024-12-12 13:00:00                                0.0  \n",
       "2024-12-12 14:00:00                                0.0  \n",
       "...                                                ...  \n",
       "2025-08-21 01:00:00                                0.0  \n",
       "2025-08-21 02:00:00                                0.0  \n",
       "2025-08-21 03:00:00                                0.0  \n",
       "2025-08-21 04:00:00                                0.0  \n",
       "2025-08-21 05:00:00                                0.0  \n",
       "\n",
       "[4346 rows x 20 columns]"
      ]
     },
     "execution_count": 81,
     "metadata": {},
     "output_type": "execute_result"
    }
   ],
   "source": [
    "df"
   ]
  },
  {
   "cell_type": "code",
   "execution_count": 82,
   "id": "f9ea0eaf",
   "metadata": {},
   "outputs": [],
   "source": [
    "df.dropna(inplace=True)\n",
    "df.drop(columns=['Log_Returns'], inplace=True)\n"
   ]
  },
  {
   "cell_type": "code",
   "execution_count": 83,
   "id": "288a9b6c",
   "metadata": {},
   "outputs": [
    {
     "data": {
      "text/html": [
       "<div>\n",
       "<style scoped>\n",
       "    .dataframe tbody tr th:only-of-type {\n",
       "        vertical-align: middle;\n",
       "    }\n",
       "\n",
       "    .dataframe tbody tr th {\n",
       "        vertical-align: top;\n",
       "    }\n",
       "\n",
       "    .dataframe thead th {\n",
       "        text-align: right;\n",
       "    }\n",
       "</style>\n",
       "<table border=\"1\" class=\"dataframe\">\n",
       "  <thead>\n",
       "    <tr style=\"text-align: right;\">\n",
       "      <th></th>\n",
       "      <th>audusd</th>\n",
       "      <th>gold</th>\n",
       "      <th>vix</th>\n",
       "      <th>dxy</th>\n",
       "      <th>sma_5</th>\n",
       "      <th>sma_10</th>\n",
       "      <th>ema_5</th>\n",
       "      <th>ema_10</th>\n",
       "      <th>momentum_5</th>\n",
       "      <th>momentum_10</th>\n",
       "      <th>std_5</th>\n",
       "      <th>std_10</th>\n",
       "      <th>rsi_14</th>\n",
       "      <th>rates</th>\n",
       "      <th>fed_rates</th>\n",
       "      <th>cpi</th>\n",
       "      <th>us_cpi</th>\n",
       "      <th>GARCH_rolling_predictions</th>\n",
       "      <th>GARCH_forward_looking_predictions</th>\n",
       "    </tr>\n",
       "  </thead>\n",
       "  <tbody>\n",
       "    <tr>\n",
       "      <th>2024-12-12 10:00:00</th>\n",
       "      <td>0.636858</td>\n",
       "      <td>2772.000000</td>\n",
       "      <td>13.76</td>\n",
       "      <td>107.894997</td>\n",
       "      <td>0.636435</td>\n",
       "      <td>0.636567</td>\n",
       "      <td>0.636858</td>\n",
       "      <td>0.636858</td>\n",
       "      <td>-0.000422</td>\n",
       "      <td>0.000341</td>\n",
       "      <td>0.000400</td>\n",
       "      <td>0.000333</td>\n",
       "      <td>48.163304</td>\n",
       "      <td>4.35</td>\n",
       "      <td>4.48</td>\n",
       "      <td>3.161614</td>\n",
       "      <td>2.949525</td>\n",
       "      <td>0.000604</td>\n",
       "      <td>0.0</td>\n",
       "    </tr>\n",
       "    <tr>\n",
       "      <th>2024-12-12 11:00:00</th>\n",
       "      <td>0.636858</td>\n",
       "      <td>2772.000000</td>\n",
       "      <td>13.75</td>\n",
       "      <td>107.894997</td>\n",
       "      <td>0.636435</td>\n",
       "      <td>0.636567</td>\n",
       "      <td>0.636858</td>\n",
       "      <td>0.636858</td>\n",
       "      <td>-0.000422</td>\n",
       "      <td>0.000341</td>\n",
       "      <td>0.000400</td>\n",
       "      <td>0.000333</td>\n",
       "      <td>48.163304</td>\n",
       "      <td>4.35</td>\n",
       "      <td>4.48</td>\n",
       "      <td>3.161614</td>\n",
       "      <td>2.949525</td>\n",
       "      <td>0.000629</td>\n",
       "      <td>0.0</td>\n",
       "    </tr>\n",
       "    <tr>\n",
       "      <th>2024-12-12 12:00:00</th>\n",
       "      <td>0.636858</td>\n",
       "      <td>2772.000000</td>\n",
       "      <td>13.71</td>\n",
       "      <td>107.894997</td>\n",
       "      <td>0.636435</td>\n",
       "      <td>0.636567</td>\n",
       "      <td>0.636858</td>\n",
       "      <td>0.636858</td>\n",
       "      <td>-0.000422</td>\n",
       "      <td>0.000341</td>\n",
       "      <td>0.000400</td>\n",
       "      <td>0.000333</td>\n",
       "      <td>48.163304</td>\n",
       "      <td>4.35</td>\n",
       "      <td>4.48</td>\n",
       "      <td>3.161614</td>\n",
       "      <td>2.949525</td>\n",
       "      <td>0.000649</td>\n",
       "      <td>0.0</td>\n",
       "    </tr>\n",
       "    <tr>\n",
       "      <th>2024-12-12 13:00:00</th>\n",
       "      <td>0.636858</td>\n",
       "      <td>2772.000000</td>\n",
       "      <td>13.66</td>\n",
       "      <td>107.894997</td>\n",
       "      <td>0.636435</td>\n",
       "      <td>0.636567</td>\n",
       "      <td>0.636858</td>\n",
       "      <td>0.636858</td>\n",
       "      <td>-0.000422</td>\n",
       "      <td>0.000341</td>\n",
       "      <td>0.000400</td>\n",
       "      <td>0.000333</td>\n",
       "      <td>48.163304</td>\n",
       "      <td>4.35</td>\n",
       "      <td>4.48</td>\n",
       "      <td>3.161614</td>\n",
       "      <td>2.949525</td>\n",
       "      <td>0.000667</td>\n",
       "      <td>0.0</td>\n",
       "    </tr>\n",
       "    <tr>\n",
       "      <th>2024-12-12 14:00:00</th>\n",
       "      <td>0.636858</td>\n",
       "      <td>2772.000000</td>\n",
       "      <td>13.79</td>\n",
       "      <td>107.894997</td>\n",
       "      <td>0.636435</td>\n",
       "      <td>0.636567</td>\n",
       "      <td>0.636858</td>\n",
       "      <td>0.636858</td>\n",
       "      <td>-0.000422</td>\n",
       "      <td>0.000341</td>\n",
       "      <td>0.000400</td>\n",
       "      <td>0.000333</td>\n",
       "      <td>48.163304</td>\n",
       "      <td>4.35</td>\n",
       "      <td>4.48</td>\n",
       "      <td>3.161614</td>\n",
       "      <td>2.949525</td>\n",
       "      <td>0.000683</td>\n",
       "      <td>0.0</td>\n",
       "    </tr>\n",
       "    <tr>\n",
       "      <th>...</th>\n",
       "      <td>...</td>\n",
       "      <td>...</td>\n",
       "      <td>...</td>\n",
       "      <td>...</td>\n",
       "      <td>...</td>\n",
       "      <td>...</td>\n",
       "      <td>...</td>\n",
       "      <td>...</td>\n",
       "      <td>...</td>\n",
       "      <td>...</td>\n",
       "      <td>...</td>\n",
       "      <td>...</td>\n",
       "      <td>...</td>\n",
       "      <td>...</td>\n",
       "      <td>...</td>\n",
       "      <td>...</td>\n",
       "      <td>...</td>\n",
       "      <td>...</td>\n",
       "      <td>...</td>\n",
       "    </tr>\n",
       "    <tr>\n",
       "      <th>2025-08-21 01:00:00</th>\n",
       "      <td>0.643376</td>\n",
       "      <td>3384.899902</td>\n",
       "      <td>15.70</td>\n",
       "      <td>98.175003</td>\n",
       "      <td>0.643443</td>\n",
       "      <td>0.643542</td>\n",
       "      <td>0.643395</td>\n",
       "      <td>0.643491</td>\n",
       "      <td>-0.000166</td>\n",
       "      <td>0.000455</td>\n",
       "      <td>0.000302</td>\n",
       "      <td>0.000288</td>\n",
       "      <td>50.000000</td>\n",
       "      <td>3.60</td>\n",
       "      <td>4.33</td>\n",
       "      <td>3.161614</td>\n",
       "      <td>2.949525</td>\n",
       "      <td>0.000000</td>\n",
       "      <td>0.0</td>\n",
       "    </tr>\n",
       "    <tr>\n",
       "      <th>2025-08-21 02:00:00</th>\n",
       "      <td>0.642178</td>\n",
       "      <td>3384.899902</td>\n",
       "      <td>15.70</td>\n",
       "      <td>98.175003</td>\n",
       "      <td>0.643178</td>\n",
       "      <td>0.643393</td>\n",
       "      <td>0.642990</td>\n",
       "      <td>0.643252</td>\n",
       "      <td>-0.001322</td>\n",
       "      <td>-0.001488</td>\n",
       "      <td>0.000635</td>\n",
       "      <td>0.000513</td>\n",
       "      <td>32.335773</td>\n",
       "      <td>3.60</td>\n",
       "      <td>4.33</td>\n",
       "      <td>3.161614</td>\n",
       "      <td>2.949525</td>\n",
       "      <td>0.000000</td>\n",
       "      <td>0.0</td>\n",
       "    </tr>\n",
       "    <tr>\n",
       "      <th>2025-08-21 03:00:00</th>\n",
       "      <td>0.642385</td>\n",
       "      <td>3384.899902</td>\n",
       "      <td>15.70</td>\n",
       "      <td>98.175003</td>\n",
       "      <td>0.642930</td>\n",
       "      <td>0.643224</td>\n",
       "      <td>0.642788</td>\n",
       "      <td>0.643094</td>\n",
       "      <td>-0.001240</td>\n",
       "      <td>-0.001696</td>\n",
       "      <td>0.000658</td>\n",
       "      <td>0.000540</td>\n",
       "      <td>44.706370</td>\n",
       "      <td>3.60</td>\n",
       "      <td>4.33</td>\n",
       "      <td>3.161614</td>\n",
       "      <td>2.949525</td>\n",
       "      <td>0.000000</td>\n",
       "      <td>0.0</td>\n",
       "    </tr>\n",
       "    <tr>\n",
       "      <th>2025-08-21 04:00:00</th>\n",
       "      <td>0.642178</td>\n",
       "      <td>3380.800049</td>\n",
       "      <td>15.70</td>\n",
       "      <td>98.175003</td>\n",
       "      <td>0.642616</td>\n",
       "      <td>0.643104</td>\n",
       "      <td>0.642585</td>\n",
       "      <td>0.642928</td>\n",
       "      <td>-0.001571</td>\n",
       "      <td>-0.001198</td>\n",
       "      <td>0.000533</td>\n",
       "      <td>0.000628</td>\n",
       "      <td>40.473572</td>\n",
       "      <td>3.60</td>\n",
       "      <td>4.33</td>\n",
       "      <td>3.161614</td>\n",
       "      <td>2.949525</td>\n",
       "      <td>0.000000</td>\n",
       "      <td>0.0</td>\n",
       "    </tr>\n",
       "    <tr>\n",
       "      <th>2025-08-21 05:00:00</th>\n",
       "      <td>0.642591</td>\n",
       "      <td>3381.000000</td>\n",
       "      <td>15.70</td>\n",
       "      <td>98.184998</td>\n",
       "      <td>0.642542</td>\n",
       "      <td>0.643009</td>\n",
       "      <td>0.642587</td>\n",
       "      <td>0.642867</td>\n",
       "      <td>-0.000372</td>\n",
       "      <td>-0.000951</td>\n",
       "      <td>0.000497</td>\n",
       "      <td>0.000627</td>\n",
       "      <td>47.018593</td>\n",
       "      <td>3.60</td>\n",
       "      <td>4.33</td>\n",
       "      <td>3.161614</td>\n",
       "      <td>2.949525</td>\n",
       "      <td>0.000000</td>\n",
       "      <td>0.0</td>\n",
       "    </tr>\n",
       "  </tbody>\n",
       "</table>\n",
       "<p>4316 rows × 19 columns</p>\n",
       "</div>"
      ],
      "text/plain": [
       "                       audusd         gold    vix         dxy     sma_5  \\\n",
       "2024-12-12 10:00:00  0.636858  2772.000000  13.76  107.894997  0.636435   \n",
       "2024-12-12 11:00:00  0.636858  2772.000000  13.75  107.894997  0.636435   \n",
       "2024-12-12 12:00:00  0.636858  2772.000000  13.71  107.894997  0.636435   \n",
       "2024-12-12 13:00:00  0.636858  2772.000000  13.66  107.894997  0.636435   \n",
       "2024-12-12 14:00:00  0.636858  2772.000000  13.79  107.894997  0.636435   \n",
       "...                       ...          ...    ...         ...       ...   \n",
       "2025-08-21 01:00:00  0.643376  3384.899902  15.70   98.175003  0.643443   \n",
       "2025-08-21 02:00:00  0.642178  3384.899902  15.70   98.175003  0.643178   \n",
       "2025-08-21 03:00:00  0.642385  3384.899902  15.70   98.175003  0.642930   \n",
       "2025-08-21 04:00:00  0.642178  3380.800049  15.70   98.175003  0.642616   \n",
       "2025-08-21 05:00:00  0.642591  3381.000000  15.70   98.184998  0.642542   \n",
       "\n",
       "                       sma_10     ema_5    ema_10  momentum_5  momentum_10  \\\n",
       "2024-12-12 10:00:00  0.636567  0.636858  0.636858   -0.000422     0.000341   \n",
       "2024-12-12 11:00:00  0.636567  0.636858  0.636858   -0.000422     0.000341   \n",
       "2024-12-12 12:00:00  0.636567  0.636858  0.636858   -0.000422     0.000341   \n",
       "2024-12-12 13:00:00  0.636567  0.636858  0.636858   -0.000422     0.000341   \n",
       "2024-12-12 14:00:00  0.636567  0.636858  0.636858   -0.000422     0.000341   \n",
       "...                       ...       ...       ...         ...          ...   \n",
       "2025-08-21 01:00:00  0.643542  0.643395  0.643491   -0.000166     0.000455   \n",
       "2025-08-21 02:00:00  0.643393  0.642990  0.643252   -0.001322    -0.001488   \n",
       "2025-08-21 03:00:00  0.643224  0.642788  0.643094   -0.001240    -0.001696   \n",
       "2025-08-21 04:00:00  0.643104  0.642585  0.642928   -0.001571    -0.001198   \n",
       "2025-08-21 05:00:00  0.643009  0.642587  0.642867   -0.000372    -0.000951   \n",
       "\n",
       "                        std_5    std_10     rsi_14  rates  fed_rates  \\\n",
       "2024-12-12 10:00:00  0.000400  0.000333  48.163304   4.35       4.48   \n",
       "2024-12-12 11:00:00  0.000400  0.000333  48.163304   4.35       4.48   \n",
       "2024-12-12 12:00:00  0.000400  0.000333  48.163304   4.35       4.48   \n",
       "2024-12-12 13:00:00  0.000400  0.000333  48.163304   4.35       4.48   \n",
       "2024-12-12 14:00:00  0.000400  0.000333  48.163304   4.35       4.48   \n",
       "...                       ...       ...        ...    ...        ...   \n",
       "2025-08-21 01:00:00  0.000302  0.000288  50.000000   3.60       4.33   \n",
       "2025-08-21 02:00:00  0.000635  0.000513  32.335773   3.60       4.33   \n",
       "2025-08-21 03:00:00  0.000658  0.000540  44.706370   3.60       4.33   \n",
       "2025-08-21 04:00:00  0.000533  0.000628  40.473572   3.60       4.33   \n",
       "2025-08-21 05:00:00  0.000497  0.000627  47.018593   3.60       4.33   \n",
       "\n",
       "                          cpi    us_cpi  GARCH_rolling_predictions  \\\n",
       "2024-12-12 10:00:00  3.161614  2.949525                   0.000604   \n",
       "2024-12-12 11:00:00  3.161614  2.949525                   0.000629   \n",
       "2024-12-12 12:00:00  3.161614  2.949525                   0.000649   \n",
       "2024-12-12 13:00:00  3.161614  2.949525                   0.000667   \n",
       "2024-12-12 14:00:00  3.161614  2.949525                   0.000683   \n",
       "...                       ...       ...                        ...   \n",
       "2025-08-21 01:00:00  3.161614  2.949525                   0.000000   \n",
       "2025-08-21 02:00:00  3.161614  2.949525                   0.000000   \n",
       "2025-08-21 03:00:00  3.161614  2.949525                   0.000000   \n",
       "2025-08-21 04:00:00  3.161614  2.949525                   0.000000   \n",
       "2025-08-21 05:00:00  3.161614  2.949525                   0.000000   \n",
       "\n",
       "                     GARCH_forward_looking_predictions  \n",
       "2024-12-12 10:00:00                                0.0  \n",
       "2024-12-12 11:00:00                                0.0  \n",
       "2024-12-12 12:00:00                                0.0  \n",
       "2024-12-12 13:00:00                                0.0  \n",
       "2024-12-12 14:00:00                                0.0  \n",
       "...                                                ...  \n",
       "2025-08-21 01:00:00                                0.0  \n",
       "2025-08-21 02:00:00                                0.0  \n",
       "2025-08-21 03:00:00                                0.0  \n",
       "2025-08-21 04:00:00                                0.0  \n",
       "2025-08-21 05:00:00                                0.0  \n",
       "\n",
       "[4316 rows x 19 columns]"
      ]
     },
     "execution_count": 83,
     "metadata": {},
     "output_type": "execute_result"
    }
   ],
   "source": [
    "\n",
    "df"
   ]
  },
  {
   "cell_type": "code",
   "execution_count": 84,
   "id": "ad2ad242",
   "metadata": {},
   "outputs": [
    {
     "ename": "TypeError",
     "evalue": "NeuralNetworkBaseModel.__init__() got an unexpected keyword argument 'dual_stream'",
     "output_type": "error",
     "traceback": [
      "\u001b[31m---------------------------------------------------------------------------\u001b[39m",
      "\u001b[31mTypeError\u001b[39m                                 Traceback (most recent call last)",
      "\u001b[36mCell\u001b[39m\u001b[36m \u001b[39m\u001b[32mIn[84]\u001b[39m\u001b[32m, line 2\u001b[39m\n\u001b[32m      1\u001b[39m \u001b[38;5;66;03m# Dual-stream with custom lengths\u001b[39;00m\n\u001b[32m----> \u001b[39m\u001b[32m2\u001b[39m model = \u001b[43mLSTMModel\u001b[49m\u001b[43m(\u001b[49m\u001b[43mdf\u001b[49m\u001b[43m,\u001b[49m\u001b[43m \u001b[49m\u001b[43mdual_stream\u001b[49m\u001b[43m=\u001b[49m\u001b[38;5;28;43;01mFalse\u001b[39;49;00m\u001b[43m,\u001b[49m\u001b[43m \u001b[49m\u001b[43mshort_len\u001b[49m\u001b[43m=\u001b[49m\u001b[32;43m7\u001b[39;49m\u001b[43m,\u001b[49m\u001b[43m \u001b[49m\u001b[43mlong_len\u001b[49m\u001b[43m=\u001b[49m\u001b[32;43m30\u001b[39;49m\u001b[43m)\u001b[49m\n",
      "\u001b[31mTypeError\u001b[39m: NeuralNetworkBaseModel.__init__() got an unexpected keyword argument 'dual_stream'"
     ]
    }
   ],
   "source": [
    "# Dual-stream with custom lengths\n",
    "model = LSTMModel(df, dual_stream=False, short_len=7, long_len=30)"
   ]
  },
  {
   "cell_type": "code",
   "execution_count": 85,
   "id": "92c1d9ad",
   "metadata": {},
   "outputs": [],
   "source": [
    "model = LSTMModel(data=df, target_col='audusd', train_ratio=0.80)"
   ]
  },
  {
   "cell_type": "code",
   "execution_count": 86,
   "id": "fd5158de",
   "metadata": {},
   "outputs": [
    {
     "name": "stdout",
     "output_type": "stream",
     "text": [
      "=== Starting LSTM Model Training Pipeline ===\n",
      "1. Preparing data...\n",
      "seq_len=20, forecast_horizon=30\n",
      "Train size: 3452, Test size: 864\n",
      "Shapes -> train_x: (3403, 20, 19) train_y: (3403, 30) y0_train: (3403, 30)\n",
      "Shapes -> test_x: (815, 20, 19) test_y: (815, 30) y0_test: (815, 30)\n",
      "2. Building model...\n"
     ]
    },
    {
     "data": {
      "text/html": [
       "<pre style=\"white-space:pre;overflow-x:auto;line-height:normal;font-family:Menlo,'DejaVu Sans Mono',consolas,'Courier New',monospace\"><span style=\"font-weight: bold\">Model: \"sequential\"</span>\n",
       "</pre>\n"
      ],
      "text/plain": [
       "\u001b[1mModel: \"sequential\"\u001b[0m\n"
      ]
     },
     "metadata": {},
     "output_type": "display_data"
    },
    {
     "data": {
      "text/html": [
       "<pre style=\"white-space:pre;overflow-x:auto;line-height:normal;font-family:Menlo,'DejaVu Sans Mono',consolas,'Courier New',monospace\">┏━━━━━━━━━━━━━━━━━━━━━━━━━━━━━━━━━┳━━━━━━━━━━━━━━━━━━━━━━━━┳━━━━━━━━━━━━━━━┓\n",
       "┃<span style=\"font-weight: bold\"> Layer (type)                    </span>┃<span style=\"font-weight: bold\"> Output Shape           </span>┃<span style=\"font-weight: bold\">       Param # </span>┃\n",
       "┡━━━━━━━━━━━━━━━━━━━━━━━━━━━━━━━━━╇━━━━━━━━━━━━━━━━━━━━━━━━╇━━━━━━━━━━━━━━━┩\n",
       "│ lstm (<span style=\"color: #0087ff; text-decoration-color: #0087ff\">LSTM</span>)                     │ (<span style=\"color: #00d7ff; text-decoration-color: #00d7ff\">None</span>, <span style=\"color: #00af00; text-decoration-color: #00af00\">20</span>, <span style=\"color: #00af00; text-decoration-color: #00af00\">32</span>)         │         <span style=\"color: #00af00; text-decoration-color: #00af00\">6,656</span> │\n",
       "├─────────────────────────────────┼────────────────────────┼───────────────┤\n",
       "│ flatten (<span style=\"color: #0087ff; text-decoration-color: #0087ff\">Flatten</span>)               │ (<span style=\"color: #00d7ff; text-decoration-color: #00d7ff\">None</span>, <span style=\"color: #00af00; text-decoration-color: #00af00\">640</span>)            │             <span style=\"color: #00af00; text-decoration-color: #00af00\">0</span> │\n",
       "├─────────────────────────────────┼────────────────────────┼───────────────┤\n",
       "│ dropout (<span style=\"color: #0087ff; text-decoration-color: #0087ff\">Dropout</span>)               │ (<span style=\"color: #00d7ff; text-decoration-color: #00d7ff\">None</span>, <span style=\"color: #00af00; text-decoration-color: #00af00\">640</span>)            │             <span style=\"color: #00af00; text-decoration-color: #00af00\">0</span> │\n",
       "├─────────────────────────────────┼────────────────────────┼───────────────┤\n",
       "│ dense (<span style=\"color: #0087ff; text-decoration-color: #0087ff\">Dense</span>)                   │ (<span style=\"color: #00d7ff; text-decoration-color: #00d7ff\">None</span>, <span style=\"color: #00af00; text-decoration-color: #00af00\">32</span>)             │        <span style=\"color: #00af00; text-decoration-color: #00af00\">20,512</span> │\n",
       "├─────────────────────────────────┼────────────────────────┼───────────────┤\n",
       "│ dropout_1 (<span style=\"color: #0087ff; text-decoration-color: #0087ff\">Dropout</span>)             │ (<span style=\"color: #00d7ff; text-decoration-color: #00d7ff\">None</span>, <span style=\"color: #00af00; text-decoration-color: #00af00\">32</span>)             │             <span style=\"color: #00af00; text-decoration-color: #00af00\">0</span> │\n",
       "├─────────────────────────────────┼────────────────────────┼───────────────┤\n",
       "│ dense_1 (<span style=\"color: #0087ff; text-decoration-color: #0087ff\">Dense</span>)                 │ (<span style=\"color: #00d7ff; text-decoration-color: #00d7ff\">None</span>, <span style=\"color: #00af00; text-decoration-color: #00af00\">30</span>)             │           <span style=\"color: #00af00; text-decoration-color: #00af00\">990</span> │\n",
       "└─────────────────────────────────┴────────────────────────┴───────────────┘\n",
       "</pre>\n"
      ],
      "text/plain": [
       "┏━━━━━━━━━━━━━━━━━━━━━━━━━━━━━━━━━┳━━━━━━━━━━━━━━━━━━━━━━━━┳━━━━━━━━━━━━━━━┓\n",
       "┃\u001b[1m \u001b[0m\u001b[1mLayer (type)                   \u001b[0m\u001b[1m \u001b[0m┃\u001b[1m \u001b[0m\u001b[1mOutput Shape          \u001b[0m\u001b[1m \u001b[0m┃\u001b[1m \u001b[0m\u001b[1m      Param #\u001b[0m\u001b[1m \u001b[0m┃\n",
       "┡━━━━━━━━━━━━━━━━━━━━━━━━━━━━━━━━━╇━━━━━━━━━━━━━━━━━━━━━━━━╇━━━━━━━━━━━━━━━┩\n",
       "│ lstm (\u001b[38;5;33mLSTM\u001b[0m)                     │ (\u001b[38;5;45mNone\u001b[0m, \u001b[38;5;34m20\u001b[0m, \u001b[38;5;34m32\u001b[0m)         │         \u001b[38;5;34m6,656\u001b[0m │\n",
       "├─────────────────────────────────┼────────────────────────┼───────────────┤\n",
       "│ flatten (\u001b[38;5;33mFlatten\u001b[0m)               │ (\u001b[38;5;45mNone\u001b[0m, \u001b[38;5;34m640\u001b[0m)            │             \u001b[38;5;34m0\u001b[0m │\n",
       "├─────────────────────────────────┼────────────────────────┼───────────────┤\n",
       "│ dropout (\u001b[38;5;33mDropout\u001b[0m)               │ (\u001b[38;5;45mNone\u001b[0m, \u001b[38;5;34m640\u001b[0m)            │             \u001b[38;5;34m0\u001b[0m │\n",
       "├─────────────────────────────────┼────────────────────────┼───────────────┤\n",
       "│ dense (\u001b[38;5;33mDense\u001b[0m)                   │ (\u001b[38;5;45mNone\u001b[0m, \u001b[38;5;34m32\u001b[0m)             │        \u001b[38;5;34m20,512\u001b[0m │\n",
       "├─────────────────────────────────┼────────────────────────┼───────────────┤\n",
       "│ dropout_1 (\u001b[38;5;33mDropout\u001b[0m)             │ (\u001b[38;5;45mNone\u001b[0m, \u001b[38;5;34m32\u001b[0m)             │             \u001b[38;5;34m0\u001b[0m │\n",
       "├─────────────────────────────────┼────────────────────────┼───────────────┤\n",
       "│ dense_1 (\u001b[38;5;33mDense\u001b[0m)                 │ (\u001b[38;5;45mNone\u001b[0m, \u001b[38;5;34m30\u001b[0m)             │           \u001b[38;5;34m990\u001b[0m │\n",
       "└─────────────────────────────────┴────────────────────────┴───────────────┘\n"
      ]
     },
     "metadata": {},
     "output_type": "display_data"
    },
    {
     "data": {
      "text/html": [
       "<pre style=\"white-space:pre;overflow-x:auto;line-height:normal;font-family:Menlo,'DejaVu Sans Mono',consolas,'Courier New',monospace\"><span style=\"font-weight: bold\"> Total params: </span><span style=\"color: #00af00; text-decoration-color: #00af00\">28,158</span> (109.99 KB)\n",
       "</pre>\n"
      ],
      "text/plain": [
       "\u001b[1m Total params: \u001b[0m\u001b[38;5;34m28,158\u001b[0m (109.99 KB)\n"
      ]
     },
     "metadata": {},
     "output_type": "display_data"
    },
    {
     "data": {
      "text/html": [
       "<pre style=\"white-space:pre;overflow-x:auto;line-height:normal;font-family:Menlo,'DejaVu Sans Mono',consolas,'Courier New',monospace\"><span style=\"font-weight: bold\"> Trainable params: </span><span style=\"color: #00af00; text-decoration-color: #00af00\">28,158</span> (109.99 KB)\n",
       "</pre>\n"
      ],
      "text/plain": [
       "\u001b[1m Trainable params: \u001b[0m\u001b[38;5;34m28,158\u001b[0m (109.99 KB)\n"
      ]
     },
     "metadata": {},
     "output_type": "display_data"
    },
    {
     "data": {
      "text/html": [
       "<pre style=\"white-space:pre;overflow-x:auto;line-height:normal;font-family:Menlo,'DejaVu Sans Mono',consolas,'Courier New',monospace\"><span style=\"font-weight: bold\"> Non-trainable params: </span><span style=\"color: #00af00; text-decoration-color: #00af00\">0</span> (0.00 B)\n",
       "</pre>\n"
      ],
      "text/plain": [
       "\u001b[1m Non-trainable params: \u001b[0m\u001b[38;5;34m0\u001b[0m (0.00 B)\n"
      ]
     },
     "metadata": {},
     "output_type": "display_data"
    },
    {
     "name": "stdout",
     "output_type": "stream",
     "text": [
      "3. Training model...\n",
      "Epoch 1/100\n",
      "\u001b[1m13/14\u001b[0m \u001b[32m━━━━━━━━━━━━━━━━━━\u001b[0m\u001b[37m━━\u001b[0m \u001b[1m0s\u001b[0m 9ms/step - loss: 0.6639 - mae: 0.6262  \n",
      "Epoch 1: val_loss improved from None to 0.02782, saving model to LSTM-weights-best.h5\n"
     ]
    },
    {
     "name": "stderr",
     "output_type": "stream",
     "text": [
      "WARNING:absl:You are saving your model as an HDF5 file via `model.save()` or `keras.saving.save_model(model)`. This file format is considered legacy. We recommend using instead the native Keras format, e.g. `model.save('my_model.keras')` or `keras.saving.save_model(model, 'my_model.keras')`. \n"
     ]
    },
    {
     "name": "stdout",
     "output_type": "stream",
     "text": [
      "\u001b[1m14/14\u001b[0m \u001b[32m━━━━━━━━━━━━━━━━━━━━\u001b[0m\u001b[37m\u001b[0m \u001b[1m1s\u001b[0m 24ms/step - loss: 0.6034 - mae: 0.5960 - val_loss: 0.0278 - val_mae: 0.1160 - learning_rate: 9.0000e-04\n",
      "Epoch 2/100\n",
      "\u001b[1m13/14\u001b[0m \u001b[32m━━━━━━━━━━━━━━━━━━\u001b[0m\u001b[37m━━\u001b[0m \u001b[1m0s\u001b[0m 9ms/step - loss: 0.4350 - mae: 0.5021\n",
      "Epoch 2: val_loss improved from 0.02782 to 0.01525, saving model to LSTM-weights-best.h5\n"
     ]
    },
    {
     "name": "stderr",
     "output_type": "stream",
     "text": [
      "WARNING:absl:You are saving your model as an HDF5 file via `model.save()` or `keras.saving.save_model(model)`. This file format is considered legacy. We recommend using instead the native Keras format, e.g. `model.save('my_model.keras')` or `keras.saving.save_model(model, 'my_model.keras')`. \n"
     ]
    },
    {
     "name": "stdout",
     "output_type": "stream",
     "text": [
      "\u001b[1m14/14\u001b[0m \u001b[32m━━━━━━━━━━━━━━━━━━━━\u001b[0m\u001b[37m\u001b[0m \u001b[1m0s\u001b[0m 12ms/step - loss: 0.4035 - mae: 0.4818 - val_loss: 0.0152 - val_mae: 0.0810 - learning_rate: 9.0000e-04\n",
      "Epoch 3/100\n",
      "\u001b[1m13/14\u001b[0m \u001b[32m━━━━━━━━━━━━━━━━━━\u001b[0m\u001b[37m━━\u001b[0m \u001b[1m0s\u001b[0m 9ms/step - loss: 0.3050 - mae: 0.4169\n",
      "Epoch 3: val_loss improved from 0.01525 to 0.00918, saving model to LSTM-weights-best.h5\n"
     ]
    },
    {
     "name": "stderr",
     "output_type": "stream",
     "text": [
      "WARNING:absl:You are saving your model as an HDF5 file via `model.save()` or `keras.saving.save_model(model)`. This file format is considered legacy. We recommend using instead the native Keras format, e.g. `model.save('my_model.keras')` or `keras.saving.save_model(model, 'my_model.keras')`. \n"
     ]
    },
    {
     "name": "stdout",
     "output_type": "stream",
     "text": [
      "\u001b[1m14/14\u001b[0m \u001b[32m━━━━━━━━━━━━━━━━━━━━\u001b[0m\u001b[37m\u001b[0m \u001b[1m0s\u001b[0m 12ms/step - loss: 0.2835 - mae: 0.4009 - val_loss: 0.0092 - val_mae: 0.0612 - learning_rate: 9.0000e-04\n",
      "Epoch 4/100\n",
      "\u001b[1m 8/14\u001b[0m \u001b[32m━━━━━━━━━━━\u001b[0m\u001b[37m━━━━━━━━━\u001b[0m \u001b[1m0s\u001b[0m 8ms/step - loss: 0.2177 - mae: 0.3472 \n",
      "Epoch 4: val_loss improved from 0.00918 to 0.00628, saving model to LSTM-weights-best.h5\n"
     ]
    },
    {
     "name": "stderr",
     "output_type": "stream",
     "text": [
      "WARNING:absl:You are saving your model as an HDF5 file via `model.save()` or `keras.saving.save_model(model)`. This file format is considered legacy. We recommend using instead the native Keras format, e.g. `model.save('my_model.keras')` or `keras.saving.save_model(model, 'my_model.keras')`. \n"
     ]
    },
    {
     "name": "stdout",
     "output_type": "stream",
     "text": [
      "\u001b[1m14/14\u001b[0m \u001b[32m━━━━━━━━━━━━━━━━━━━━\u001b[0m\u001b[37m\u001b[0m \u001b[1m0s\u001b[0m 11ms/step - loss: 0.2042 - mae: 0.3349 - val_loss: 0.0063 - val_mae: 0.0489 - learning_rate: 9.0000e-04\n",
      "Epoch 5/100\n",
      "\u001b[1m 8/14\u001b[0m \u001b[32m━━━━━━━━━━━\u001b[0m\u001b[37m━━━━━━━━━\u001b[0m \u001b[1m0s\u001b[0m 8ms/step - loss: 0.1692 - mae: 0.3028 \n",
      "Epoch 5: val_loss improved from 0.00628 to 0.00423, saving model to LSTM-weights-best.h5\n"
     ]
    },
    {
     "name": "stderr",
     "output_type": "stream",
     "text": [
      "WARNING:absl:You are saving your model as an HDF5 file via `model.save()` or `keras.saving.save_model(model)`. This file format is considered legacy. We recommend using instead the native Keras format, e.g. `model.save('my_model.keras')` or `keras.saving.save_model(model, 'my_model.keras')`. \n"
     ]
    },
    {
     "name": "stdout",
     "output_type": "stream",
     "text": [
      "\u001b[1m14/14\u001b[0m \u001b[32m━━━━━━━━━━━━━━━━━━━━\u001b[0m\u001b[37m\u001b[0m \u001b[1m0s\u001b[0m 11ms/step - loss: 0.1509 - mae: 0.2850 - val_loss: 0.0042 - val_mae: 0.0390 - learning_rate: 9.0000e-04\n",
      "Epoch 6/100\n",
      "\u001b[1m 8/14\u001b[0m \u001b[32m━━━━━━━━━━━\u001b[0m\u001b[37m━━━━━━━━━\u001b[0m \u001b[1m0s\u001b[0m 8ms/step - loss: 0.1244 - mae: 0.2555 \n",
      "Epoch 6: val_loss improved from 0.00423 to 0.00303, saving model to LSTM-weights-best.h5\n"
     ]
    },
    {
     "name": "stderr",
     "output_type": "stream",
     "text": [
      "WARNING:absl:You are saving your model as an HDF5 file via `model.save()` or `keras.saving.save_model(model)`. This file format is considered legacy. We recommend using instead the native Keras format, e.g. `model.save('my_model.keras')` or `keras.saving.save_model(model, 'my_model.keras')`. \n"
     ]
    },
    {
     "name": "stdout",
     "output_type": "stream",
     "text": [
      "\u001b[1m14/14\u001b[0m \u001b[32m━━━━━━━━━━━━━━━━━━━━\u001b[0m\u001b[37m\u001b[0m \u001b[1m0s\u001b[0m 11ms/step - loss: 0.1163 - mae: 0.2471 - val_loss: 0.0030 - val_mae: 0.0325 - learning_rate: 9.0000e-04\n",
      "Epoch 7/100\n",
      "\u001b[1m 8/14\u001b[0m \u001b[32m━━━━━━━━━━━\u001b[0m\u001b[37m━━━━━━━━━\u001b[0m \u001b[1m0s\u001b[0m 8ms/step - loss: 0.0918 - mae: 0.2201 \n",
      "Epoch 7: val_loss improved from 0.00303 to 0.00221, saving model to LSTM-weights-best.h5\n"
     ]
    },
    {
     "name": "stderr",
     "output_type": "stream",
     "text": [
      "WARNING:absl:You are saving your model as an HDF5 file via `model.save()` or `keras.saving.save_model(model)`. This file format is considered legacy. We recommend using instead the native Keras format, e.g. `model.save('my_model.keras')` or `keras.saving.save_model(model, 'my_model.keras')`. \n"
     ]
    },
    {
     "name": "stdout",
     "output_type": "stream",
     "text": [
      "\u001b[1m14/14\u001b[0m \u001b[32m━━━━━━━━━━━━━━━━━━━━\u001b[0m\u001b[37m\u001b[0m \u001b[1m0s\u001b[0m 11ms/step - loss: 0.0853 - mae: 0.2115 - val_loss: 0.0022 - val_mae: 0.0273 - learning_rate: 9.0000e-04\n",
      "Epoch 8/100\n",
      "\u001b[1m13/14\u001b[0m \u001b[32m━━━━━━━━━━━━━━━━━━\u001b[0m\u001b[37m━━\u001b[0m \u001b[1m0s\u001b[0m 9ms/step - loss: 0.0707 - mae: 0.1897\n",
      "Epoch 8: val_loss improved from 0.00221 to 0.00171, saving model to LSTM-weights-best.h5\n"
     ]
    },
    {
     "name": "stderr",
     "output_type": "stream",
     "text": [
      "WARNING:absl:You are saving your model as an HDF5 file via `model.save()` or `keras.saving.save_model(model)`. This file format is considered legacy. We recommend using instead the native Keras format, e.g. `model.save('my_model.keras')` or `keras.saving.save_model(model, 'my_model.keras')`. \n"
     ]
    },
    {
     "name": "stdout",
     "output_type": "stream",
     "text": [
      "\u001b[1m14/14\u001b[0m \u001b[32m━━━━━━━━━━━━━━━━━━━━\u001b[0m\u001b[37m\u001b[0m \u001b[1m0s\u001b[0m 12ms/step - loss: 0.0659 - mae: 0.1836 - val_loss: 0.0017 - val_mae: 0.0235 - learning_rate: 9.0000e-04\n",
      "Epoch 9/100\n",
      "\u001b[1m14/14\u001b[0m \u001b[32m━━━━━━━━━━━━━━━━━━━━\u001b[0m\u001b[37m\u001b[0m \u001b[1m0s\u001b[0m 8ms/step - loss: 0.0548 - mae: 0.1666\n",
      "Epoch 9: val_loss improved from 0.00171 to 0.00134, saving model to LSTM-weights-best.h5\n"
     ]
    },
    {
     "name": "stderr",
     "output_type": "stream",
     "text": [
      "WARNING:absl:You are saving your model as an HDF5 file via `model.save()` or `keras.saving.save_model(model)`. This file format is considered legacy. We recommend using instead the native Keras format, e.g. `model.save('my_model.keras')` or `keras.saving.save_model(model, 'my_model.keras')`. \n"
     ]
    },
    {
     "name": "stdout",
     "output_type": "stream",
     "text": [
      "\u001b[1m14/14\u001b[0m \u001b[32m━━━━━━━━━━━━━━━━━━━━\u001b[0m\u001b[37m\u001b[0m \u001b[1m0s\u001b[0m 12ms/step - loss: 0.0535 - mae: 0.1641 - val_loss: 0.0013 - val_mae: 0.0202 - learning_rate: 9.0000e-04\n",
      "Epoch 10/100\n",
      "\u001b[1m14/14\u001b[0m \u001b[32m━━━━━━━━━━━━━━━━━━━━\u001b[0m\u001b[37m\u001b[0m \u001b[1m0s\u001b[0m 8ms/step - loss: 0.0421 - mae: 0.1461\n",
      "Epoch 10: val_loss improved from 0.00134 to 0.00101, saving model to LSTM-weights-best.h5\n"
     ]
    },
    {
     "name": "stderr",
     "output_type": "stream",
     "text": [
      "WARNING:absl:You are saving your model as an HDF5 file via `model.save()` or `keras.saving.save_model(model)`. This file format is considered legacy. We recommend using instead the native Keras format, e.g. `model.save('my_model.keras')` or `keras.saving.save_model(model, 'my_model.keras')`. \n"
     ]
    },
    {
     "name": "stdout",
     "output_type": "stream",
     "text": [
      "\u001b[1m14/14\u001b[0m \u001b[32m━━━━━━━━━━━━━━━━━━━━\u001b[0m\u001b[37m\u001b[0m \u001b[1m0s\u001b[0m 12ms/step - loss: 0.0413 - mae: 0.1436 - val_loss: 0.0010 - val_mae: 0.0176 - learning_rate: 9.0000e-04\n",
      "Epoch 11/100\n",
      "\u001b[1m13/14\u001b[0m \u001b[32m━━━━━━━━━━━━━━━━━━\u001b[0m\u001b[37m━━\u001b[0m \u001b[1m0s\u001b[0m 9ms/step - loss: 0.0367 - mae: 0.1351\n",
      "Epoch 11: val_loss improved from 0.00101 to 0.00089, saving model to LSTM-weights-best.h5\n"
     ]
    },
    {
     "name": "stderr",
     "output_type": "stream",
     "text": [
      "WARNING:absl:You are saving your model as an HDF5 file via `model.save()` or `keras.saving.save_model(model)`. This file format is considered legacy. We recommend using instead the native Keras format, e.g. `model.save('my_model.keras')` or `keras.saving.save_model(model, 'my_model.keras')`. \n"
     ]
    },
    {
     "name": "stdout",
     "output_type": "stream",
     "text": [
      "\u001b[1m14/14\u001b[0m \u001b[32m━━━━━━━━━━━━━━━━━━━━\u001b[0m\u001b[37m\u001b[0m \u001b[1m0s\u001b[0m 12ms/step - loss: 0.0350 - mae: 0.1311 - val_loss: 8.8659e-04 - val_mae: 0.0161 - learning_rate: 9.0000e-04\n",
      "Epoch 12/100\n",
      "\u001b[1m13/14\u001b[0m \u001b[32m━━━━━━━━━━━━━━━━━━\u001b[0m\u001b[37m━━\u001b[0m \u001b[1m0s\u001b[0m 9ms/step - loss: 0.0295 - mae: 0.1202\n",
      "Epoch 12: val_loss improved from 0.00089 to 0.00071, saving model to LSTM-weights-best.h5\n"
     ]
    },
    {
     "name": "stderr",
     "output_type": "stream",
     "text": [
      "WARNING:absl:You are saving your model as an HDF5 file via `model.save()` or `keras.saving.save_model(model)`. This file format is considered legacy. We recommend using instead the native Keras format, e.g. `model.save('my_model.keras')` or `keras.saving.save_model(model, 'my_model.keras')`. \n"
     ]
    },
    {
     "name": "stdout",
     "output_type": "stream",
     "text": [
      "\u001b[1m14/14\u001b[0m \u001b[32m━━━━━━━━━━━━━━━━━━━━\u001b[0m\u001b[37m\u001b[0m \u001b[1m0s\u001b[0m 12ms/step - loss: 0.0285 - mae: 0.1178 - val_loss: 7.0731e-04 - val_mae: 0.0141 - learning_rate: 9.0000e-04\n",
      "Epoch 13/100\n",
      "\u001b[1m14/14\u001b[0m \u001b[32m━━━━━━━━━━━━━━━━━━━━\u001b[0m\u001b[37m\u001b[0m \u001b[1m0s\u001b[0m 8ms/step - loss: 0.0238 - mae: 0.1077\n",
      "Epoch 13: val_loss improved from 0.00071 to 0.00054, saving model to LSTM-weights-best.h5\n"
     ]
    },
    {
     "name": "stderr",
     "output_type": "stream",
     "text": [
      "WARNING:absl:You are saving your model as an HDF5 file via `model.save()` or `keras.saving.save_model(model)`. This file format is considered legacy. We recommend using instead the native Keras format, e.g. `model.save('my_model.keras')` or `keras.saving.save_model(model, 'my_model.keras')`. \n"
     ]
    },
    {
     "name": "stdout",
     "output_type": "stream",
     "text": [
      "\u001b[1m14/14\u001b[0m \u001b[32m━━━━━━━━━━━━━━━━━━━━\u001b[0m\u001b[37m\u001b[0m \u001b[1m0s\u001b[0m 12ms/step - loss: 0.0233 - mae: 0.1058 - val_loss: 5.3575e-04 - val_mae: 0.0124 - learning_rate: 9.0000e-04\n",
      "Epoch 14/100\n",
      "\u001b[1m14/14\u001b[0m \u001b[32m━━━━━━━━━━━━━━━━━━━━\u001b[0m\u001b[37m\u001b[0m \u001b[1m0s\u001b[0m 8ms/step - loss: 0.0192 - mae: 0.0966\n",
      "Epoch 14: val_loss improved from 0.00054 to 0.00047, saving model to LSTM-weights-best.h5\n"
     ]
    },
    {
     "name": "stderr",
     "output_type": "stream",
     "text": [
      "WARNING:absl:You are saving your model as an HDF5 file via `model.save()` or `keras.saving.save_model(model)`. This file format is considered legacy. We recommend using instead the native Keras format, e.g. `model.save('my_model.keras')` or `keras.saving.save_model(model, 'my_model.keras')`. \n"
     ]
    },
    {
     "name": "stdout",
     "output_type": "stream",
     "text": [
      "\u001b[1m14/14\u001b[0m \u001b[32m━━━━━━━━━━━━━━━━━━━━\u001b[0m\u001b[37m\u001b[0m \u001b[1m0s\u001b[0m 12ms/step - loss: 0.0191 - mae: 0.0958 - val_loss: 4.7151e-04 - val_mae: 0.0116 - learning_rate: 9.0000e-04\n",
      "Epoch 15/100\n",
      "\u001b[1m13/14\u001b[0m \u001b[32m━━━━━━━━━━━━━━━━━━\u001b[0m\u001b[37m━━\u001b[0m \u001b[1m0s\u001b[0m 9ms/step - loss: 0.0172 - mae: 0.0907\n",
      "Epoch 15: val_loss improved from 0.00047 to 0.00039, saving model to LSTM-weights-best.h5\n"
     ]
    },
    {
     "name": "stderr",
     "output_type": "stream",
     "text": [
      "WARNING:absl:You are saving your model as an HDF5 file via `model.save()` or `keras.saving.save_model(model)`. This file format is considered legacy. We recommend using instead the native Keras format, e.g. `model.save('my_model.keras')` or `keras.saving.save_model(model, 'my_model.keras')`. \n"
     ]
    },
    {
     "name": "stdout",
     "output_type": "stream",
     "text": [
      "\u001b[1m14/14\u001b[0m \u001b[32m━━━━━━━━━━━━━━━━━━━━\u001b[0m\u001b[37m\u001b[0m \u001b[1m0s\u001b[0m 12ms/step - loss: 0.0166 - mae: 0.0890 - val_loss: 3.9070e-04 - val_mae: 0.0104 - learning_rate: 9.0000e-04\n",
      "Epoch 16/100\n",
      "\u001b[1m14/14\u001b[0m \u001b[32m━━━━━━━━━━━━━━━━━━━━\u001b[0m\u001b[37m\u001b[0m \u001b[1m0s\u001b[0m 8ms/step - loss: 0.0150 - mae: 0.0833\n",
      "Epoch 16: val_loss improved from 0.00039 to 0.00035, saving model to LSTM-weights-best.h5\n"
     ]
    },
    {
     "name": "stderr",
     "output_type": "stream",
     "text": [
      "WARNING:absl:You are saving your model as an HDF5 file via `model.save()` or `keras.saving.save_model(model)`. This file format is considered legacy. We recommend using instead the native Keras format, e.g. `model.save('my_model.keras')` or `keras.saving.save_model(model, 'my_model.keras')`. \n"
     ]
    },
    {
     "name": "stdout",
     "output_type": "stream",
     "text": [
      "\u001b[1m14/14\u001b[0m \u001b[32m━━━━━━━━━━━━━━━━━━━━\u001b[0m\u001b[37m\u001b[0m \u001b[1m0s\u001b[0m 12ms/step - loss: 0.0142 - mae: 0.0813 - val_loss: 3.4878e-04 - val_mae: 0.0097 - learning_rate: 9.0000e-04\n",
      "Epoch 17/100\n",
      "\u001b[1m13/14\u001b[0m \u001b[32m━━━━━━━━━━━━━━━━━━\u001b[0m\u001b[37m━━\u001b[0m \u001b[1m0s\u001b[0m 9ms/step - loss: 0.0127 - mae: 0.0772\n",
      "Epoch 17: val_loss improved from 0.00035 to 0.00029, saving model to LSTM-weights-best.h5\n"
     ]
    },
    {
     "name": "stderr",
     "output_type": "stream",
     "text": [
      "WARNING:absl:You are saving your model as an HDF5 file via `model.save()` or `keras.saving.save_model(model)`. This file format is considered legacy. We recommend using instead the native Keras format, e.g. `model.save('my_model.keras')` or `keras.saving.save_model(model, 'my_model.keras')`. \n"
     ]
    },
    {
     "name": "stdout",
     "output_type": "stream",
     "text": [
      "\u001b[1m14/14\u001b[0m \u001b[32m━━━━━━━━━━━━━━━━━━━━\u001b[0m\u001b[37m\u001b[0m \u001b[1m0s\u001b[0m 12ms/step - loss: 0.0122 - mae: 0.0754 - val_loss: 2.9319e-04 - val_mae: 0.0089 - learning_rate: 9.0000e-04\n",
      "Epoch 18/100\n",
      "\u001b[1m14/14\u001b[0m \u001b[32m━━━━━━━━━━━━━━━━━━━━\u001b[0m\u001b[37m\u001b[0m \u001b[1m0s\u001b[0m 8ms/step - loss: 0.0107 - mae: 0.0699\n",
      "Epoch 18: val_loss improved from 0.00029 to 0.00025, saving model to LSTM-weights-best.h5\n"
     ]
    },
    {
     "name": "stderr",
     "output_type": "stream",
     "text": [
      "WARNING:absl:You are saving your model as an HDF5 file via `model.save()` or `keras.saving.save_model(model)`. This file format is considered legacy. We recommend using instead the native Keras format, e.g. `model.save('my_model.keras')` or `keras.saving.save_model(model, 'my_model.keras')`. \n"
     ]
    },
    {
     "name": "stdout",
     "output_type": "stream",
     "text": [
      "\u001b[1m14/14\u001b[0m \u001b[32m━━━━━━━━━━━━━━━━━━━━\u001b[0m\u001b[37m\u001b[0m \u001b[1m0s\u001b[0m 12ms/step - loss: 0.0107 - mae: 0.0693 - val_loss: 2.4587e-04 - val_mae: 0.0082 - learning_rate: 9.0000e-04\n",
      "Epoch 19/100\n",
      "\u001b[1m 8/14\u001b[0m \u001b[32m━━━━━━━━━━━\u001b[0m\u001b[37m━━━━━━━━━\u001b[0m \u001b[1m0s\u001b[0m 8ms/step - loss: 0.0097 - mae: 0.0658 \n",
      "Epoch 19: val_loss improved from 0.00025 to 0.00022, saving model to LSTM-weights-best.h5\n"
     ]
    },
    {
     "name": "stderr",
     "output_type": "stream",
     "text": [
      "WARNING:absl:You are saving your model as an HDF5 file via `model.save()` or `keras.saving.save_model(model)`. This file format is considered legacy. We recommend using instead the native Keras format, e.g. `model.save('my_model.keras')` or `keras.saving.save_model(model, 'my_model.keras')`. \n"
     ]
    },
    {
     "name": "stdout",
     "output_type": "stream",
     "text": [
      "\u001b[1m14/14\u001b[0m \u001b[32m━━━━━━━━━━━━━━━━━━━━\u001b[0m\u001b[37m\u001b[0m \u001b[1m0s\u001b[0m 12ms/step - loss: 0.0090 - mae: 0.0642 - val_loss: 2.2011e-04 - val_mae: 0.0077 - learning_rate: 9.0000e-04\n",
      "Epoch 20/100\n",
      "\u001b[1m 8/14\u001b[0m \u001b[32m━━━━━━━━━━━\u001b[0m\u001b[37m━━━━━━━━━\u001b[0m \u001b[1m0s\u001b[0m 8ms/step - loss: 0.0076 - mae: 0.0602 \n",
      "Epoch 20: val_loss did not improve from 0.00022\n",
      "\u001b[1m14/14\u001b[0m \u001b[32m━━━━━━━━━━━━━━━━━━━━\u001b[0m\u001b[37m\u001b[0m \u001b[1m0s\u001b[0m 11ms/step - loss: 0.0087 - mae: 0.0613 - val_loss: 2.2771e-04 - val_mae: 0.0075 - learning_rate: 9.0000e-04\n",
      "Epoch 21/100\n",
      "\u001b[1m10/14\u001b[0m \u001b[32m━━━━━━━━━━━━━━\u001b[0m\u001b[37m━━━━━━\u001b[0m \u001b[1m0s\u001b[0m 16ms/step - loss: 0.0082 - mae: 0.0591\n",
      "Epoch 21: val_loss did not improve from 0.00022\n",
      "\u001b[1m14/14\u001b[0m \u001b[32m━━━━━━━━━━━━━━━━━━━━\u001b[0m\u001b[37m\u001b[0m \u001b[1m0s\u001b[0m 17ms/step - loss: 0.0078 - mae: 0.0577 - val_loss: 2.4444e-04 - val_mae: 0.0074 - learning_rate: 9.0000e-04\n",
      "Epoch 22/100\n",
      "\u001b[1m13/14\u001b[0m \u001b[32m━━━━━━━━━━━━━━━━━━\u001b[0m\u001b[37m━━\u001b[0m \u001b[1m0s\u001b[0m 9ms/step - loss: 0.0069 - mae: 0.0549\n",
      "Epoch 22: val_loss did not improve from 0.00022\n",
      "\u001b[1m14/14\u001b[0m \u001b[32m━━━━━━━━━━━━━━━━━━━━\u001b[0m\u001b[37m\u001b[0m \u001b[1m0s\u001b[0m 12ms/step - loss: 0.0068 - mae: 0.0536 - val_loss: 2.6282e-04 - val_mae: 0.0071 - learning_rate: 9.0000e-04\n",
      "Epoch 23/100\n",
      "\u001b[1m14/14\u001b[0m \u001b[32m━━━━━━━━━━━━━━━━━━━━\u001b[0m\u001b[37m\u001b[0m \u001b[1m0s\u001b[0m 8ms/step - loss: 0.0068 - mae: 0.0528\n",
      "Epoch 23: val_loss improved from 0.00022 to 0.00022, saving model to LSTM-weights-best.h5\n"
     ]
    },
    {
     "name": "stderr",
     "output_type": "stream",
     "text": [
      "WARNING:absl:You are saving your model as an HDF5 file via `model.save()` or `keras.saving.save_model(model)`. This file format is considered legacy. We recommend using instead the native Keras format, e.g. `model.save('my_model.keras')` or `keras.saving.save_model(model, 'my_model.keras')`. \n"
     ]
    },
    {
     "name": "stdout",
     "output_type": "stream",
     "text": [
      "\u001b[1m14/14\u001b[0m \u001b[32m━━━━━━━━━━━━━━━━━━━━\u001b[0m\u001b[37m\u001b[0m \u001b[1m0s\u001b[0m 12ms/step - loss: 0.0066 - mae: 0.0517 - val_loss: 2.1674e-04 - val_mae: 0.0068 - learning_rate: 9.0000e-04\n",
      "Epoch 24/100\n",
      "\u001b[1m 8/14\u001b[0m \u001b[32m━━━━━━━━━━━\u001b[0m\u001b[37m━━━━━━━━━\u001b[0m \u001b[1m0s\u001b[0m 8ms/step - loss: 0.0061 - mae: 0.0499 \n",
      "Epoch 24: val_loss improved from 0.00022 to 0.00016, saving model to LSTM-weights-best.h5\n"
     ]
    },
    {
     "name": "stderr",
     "output_type": "stream",
     "text": [
      "WARNING:absl:You are saving your model as an HDF5 file via `model.save()` or `keras.saving.save_model(model)`. This file format is considered legacy. We recommend using instead the native Keras format, e.g. `model.save('my_model.keras')` or `keras.saving.save_model(model, 'my_model.keras')`. \n"
     ]
    },
    {
     "name": "stdout",
     "output_type": "stream",
     "text": [
      "\u001b[1m14/14\u001b[0m \u001b[32m━━━━━━━━━━━━━━━━━━━━\u001b[0m\u001b[37m\u001b[0m \u001b[1m0s\u001b[0m 11ms/step - loss: 0.0059 - mae: 0.0489 - val_loss: 1.6018e-04 - val_mae: 0.0063 - learning_rate: 9.0000e-04\n",
      "Epoch 25/100\n",
      "\u001b[1m 8/14\u001b[0m \u001b[32m━━━━━━━━━━━\u001b[0m\u001b[37m━━━━━━━━━\u001b[0m \u001b[1m0s\u001b[0m 8ms/step - loss: 0.0058 - mae: 0.0477 \n",
      "Epoch 25: val_loss improved from 0.00016 to 0.00016, saving model to LSTM-weights-best.h5\n"
     ]
    },
    {
     "name": "stderr",
     "output_type": "stream",
     "text": [
      "WARNING:absl:You are saving your model as an HDF5 file via `model.save()` or `keras.saving.save_model(model)`. This file format is considered legacy. We recommend using instead the native Keras format, e.g. `model.save('my_model.keras')` or `keras.saving.save_model(model, 'my_model.keras')`. \n"
     ]
    },
    {
     "name": "stdout",
     "output_type": "stream",
     "text": [
      "\u001b[1m14/14\u001b[0m \u001b[32m━━━━━━━━━━━━━━━━━━━━\u001b[0m\u001b[37m\u001b[0m \u001b[1m0s\u001b[0m 11ms/step - loss: 0.0052 - mae: 0.0461 - val_loss: 1.5982e-04 - val_mae: 0.0061 - learning_rate: 9.0000e-04\n",
      "Epoch 26/100\n",
      "\u001b[1m14/14\u001b[0m \u001b[32m━━━━━━━━━━━━━━━━━━━━\u001b[0m\u001b[37m\u001b[0m \u001b[1m0s\u001b[0m 8ms/step - loss: 0.0056 - mae: 0.0455\n",
      "Epoch 26: val_loss improved from 0.00016 to 0.00014, saving model to LSTM-weights-best.h5\n"
     ]
    },
    {
     "name": "stderr",
     "output_type": "stream",
     "text": [
      "WARNING:absl:You are saving your model as an HDF5 file via `model.save()` or `keras.saving.save_model(model)`. This file format is considered legacy. We recommend using instead the native Keras format, e.g. `model.save('my_model.keras')` or `keras.saving.save_model(model, 'my_model.keras')`. \n"
     ]
    },
    {
     "name": "stdout",
     "output_type": "stream",
     "text": [
      "\u001b[1m14/14\u001b[0m \u001b[32m━━━━━━━━━━━━━━━━━━━━\u001b[0m\u001b[37m\u001b[0m \u001b[1m0s\u001b[0m 12ms/step - loss: 0.0053 - mae: 0.0447 - val_loss: 1.3990e-04 - val_mae: 0.0059 - learning_rate: 9.0000e-04\n",
      "Epoch 27/100\n",
      "\u001b[1m14/14\u001b[0m \u001b[32m━━━━━━━━━━━━━━━━━━━━\u001b[0m\u001b[37m\u001b[0m \u001b[1m0s\u001b[0m 8ms/step - loss: 0.0054 - mae: 0.0439\n",
      "Epoch 27: val_loss did not improve from 0.00014\n",
      "\u001b[1m14/14\u001b[0m \u001b[32m━━━━━━━━━━━━━━━━━━━━\u001b[0m\u001b[37m\u001b[0m \u001b[1m0s\u001b[0m 11ms/step - loss: 0.0052 - mae: 0.0434 - val_loss: 1.6480e-04 - val_mae: 0.0060 - learning_rate: 9.0000e-04\n",
      "Epoch 28/100\n",
      "\u001b[1m13/14\u001b[0m \u001b[32m━━━━━━━━━━━━━━━━━━\u001b[0m\u001b[37m━━\u001b[0m \u001b[1m0s\u001b[0m 9ms/step - loss: 0.0048 - mae: 0.0415\n",
      "Epoch 28: val_loss did not improve from 0.00014\n",
      "\u001b[1m14/14\u001b[0m \u001b[32m━━━━━━━━━━━━━━━━━━━━\u001b[0m\u001b[37m\u001b[0m \u001b[1m0s\u001b[0m 11ms/step - loss: 0.0047 - mae: 0.0411 - val_loss: 1.4481e-04 - val_mae: 0.0057 - learning_rate: 9.0000e-04\n",
      "Epoch 29/100\n",
      "\u001b[1m13/14\u001b[0m \u001b[32m━━━━━━━━━━━━━━━━━━\u001b[0m\u001b[37m━━\u001b[0m \u001b[1m0s\u001b[0m 9ms/step - loss: 0.0042 - mae: 0.0386\n",
      "Epoch 29: val_loss did not improve from 0.00014\n",
      "\u001b[1m14/14\u001b[0m \u001b[32m━━━━━━━━━━━━━━━━━━━━\u001b[0m\u001b[37m\u001b[0m \u001b[1m0s\u001b[0m 11ms/step - loss: 0.0042 - mae: 0.0384 - val_loss: 1.4280e-04 - val_mae: 0.0055 - learning_rate: 9.0000e-04\n",
      "Epoch 30/100\n",
      "\u001b[1m 8/14\u001b[0m \u001b[32m━━━━━━━━━━━\u001b[0m\u001b[37m━━━━━━━━━\u001b[0m \u001b[1m0s\u001b[0m 8ms/step - loss: 0.0042 - mae: 0.0376 \n",
      "Epoch 30: val_loss improved from 0.00014 to 0.00013, saving model to LSTM-weights-best.h5\n"
     ]
    },
    {
     "name": "stderr",
     "output_type": "stream",
     "text": [
      "WARNING:absl:You are saving your model as an HDF5 file via `model.save()` or `keras.saving.save_model(model)`. This file format is considered legacy. We recommend using instead the native Keras format, e.g. `model.save('my_model.keras')` or `keras.saving.save_model(model, 'my_model.keras')`. \n"
     ]
    },
    {
     "name": "stdout",
     "output_type": "stream",
     "text": [
      "\u001b[1m14/14\u001b[0m \u001b[32m━━━━━━━━━━━━━━━━━━━━\u001b[0m\u001b[37m\u001b[0m \u001b[1m0s\u001b[0m 11ms/step - loss: 0.0037 - mae: 0.0363 - val_loss: 1.3488e-04 - val_mae: 0.0053 - learning_rate: 9.0000e-04\n",
      "Epoch 31/100\n",
      "\u001b[1m 8/14\u001b[0m \u001b[32m━━━━━━━━━━━\u001b[0m\u001b[37m━━━━━━━━━\u001b[0m \u001b[1m0s\u001b[0m 8ms/step - loss: 0.0034 - mae: 0.0348 \n",
      "Epoch 31: val_loss did not improve from 0.00013\n",
      "\u001b[1m14/14\u001b[0m \u001b[32m━━━━━━━━━━━━━━━━━━━━\u001b[0m\u001b[37m\u001b[0m \u001b[1m0s\u001b[0m 11ms/step - loss: 0.0038 - mae: 0.0352 - val_loss: 1.5100e-04 - val_mae: 0.0052 - learning_rate: 9.0000e-04\n",
      "Epoch 32/100\n",
      "\u001b[1m14/14\u001b[0m \u001b[32m━━━━━━━━━━━━━━━━━━━━\u001b[0m\u001b[37m\u001b[0m \u001b[1m0s\u001b[0m 8ms/step - loss: 0.0034 - mae: 0.0336\n",
      "Epoch 32: val_loss did not improve from 0.00013\n",
      "\u001b[1m14/14\u001b[0m \u001b[32m━━━━━━━━━━━━━━━━━━━━\u001b[0m\u001b[37m\u001b[0m \u001b[1m0s\u001b[0m 11ms/step - loss: 0.0036 - mae: 0.0341 - val_loss: 1.4104e-04 - val_mae: 0.0054 - learning_rate: 9.0000e-04\n",
      "Epoch 33/100\n",
      "\u001b[1m 8/14\u001b[0m \u001b[32m━━━━━━━━━━━\u001b[0m\u001b[37m━━━━━━━━━\u001b[0m \u001b[1m0s\u001b[0m 8ms/step - loss: 0.0033 - mae: 0.0331 \n",
      "Epoch 33: val_loss improved from 0.00013 to 0.00013, saving model to LSTM-weights-best.h5\n"
     ]
    },
    {
     "name": "stderr",
     "output_type": "stream",
     "text": [
      "WARNING:absl:You are saving your model as an HDF5 file via `model.save()` or `keras.saving.save_model(model)`. This file format is considered legacy. We recommend using instead the native Keras format, e.g. `model.save('my_model.keras')` or `keras.saving.save_model(model, 'my_model.keras')`. \n"
     ]
    },
    {
     "name": "stdout",
     "output_type": "stream",
     "text": [
      "\u001b[1m14/14\u001b[0m \u001b[32m━━━━━━━━━━━━━━━━━━━━\u001b[0m\u001b[37m\u001b[0m \u001b[1m0s\u001b[0m 12ms/step - loss: 0.0032 - mae: 0.0326 - val_loss: 1.2570e-04 - val_mae: 0.0052 - learning_rate: 9.0000e-04\n",
      "Epoch 34/100\n",
      "\u001b[1m14/14\u001b[0m \u001b[32m━━━━━━━━━━━━━━━━━━━━\u001b[0m\u001b[37m\u001b[0m \u001b[1m0s\u001b[0m 8ms/step - loss: 0.0032 - mae: 0.0323\n",
      "Epoch 34: val_loss did not improve from 0.00013\n",
      "\u001b[1m14/14\u001b[0m \u001b[32m━━━━━━━━━━━━━━━━━━━━\u001b[0m\u001b[37m\u001b[0m \u001b[1m0s\u001b[0m 11ms/step - loss: 0.0030 - mae: 0.0316 - val_loss: 1.2809e-04 - val_mae: 0.0051 - learning_rate: 9.0000e-04\n",
      "Epoch 35/100\n",
      "\u001b[1m14/14\u001b[0m \u001b[32m━━━━━━━━━━━━━━━━━━━━\u001b[0m\u001b[37m\u001b[0m \u001b[1m0s\u001b[0m 8ms/step - loss: 0.0032 - mae: 0.0309\n",
      "Epoch 35: val_loss improved from 0.00013 to 0.00012, saving model to LSTM-weights-best.h5\n"
     ]
    },
    {
     "name": "stderr",
     "output_type": "stream",
     "text": [
      "WARNING:absl:You are saving your model as an HDF5 file via `model.save()` or `keras.saving.save_model(model)`. This file format is considered legacy. We recommend using instead the native Keras format, e.g. `model.save('my_model.keras')` or `keras.saving.save_model(model, 'my_model.keras')`. \n"
     ]
    },
    {
     "name": "stdout",
     "output_type": "stream",
     "text": [
      "\u001b[1m14/14\u001b[0m \u001b[32m━━━━━━━━━━━━━━━━━━━━\u001b[0m\u001b[37m\u001b[0m \u001b[1m0s\u001b[0m 12ms/step - loss: 0.0029 - mae: 0.0307 - val_loss: 1.1916e-04 - val_mae: 0.0050 - learning_rate: 9.0000e-04\n",
      "Epoch 36/100\n",
      "\u001b[1m13/14\u001b[0m \u001b[32m━━━━━━━━━━━━━━━━━━\u001b[0m\u001b[37m━━\u001b[0m \u001b[1m0s\u001b[0m 9ms/step - loss: 0.0030 - mae: 0.0307\n",
      "Epoch 36: val_loss did not improve from 0.00012\n",
      "\n",
      "Epoch 36: ReduceLROnPlateau reducing learning rate to 8.999999845400454e-05.\n",
      "\u001b[1m14/14\u001b[0m \u001b[32m━━━━━━━━━━━━━━━━━━━━\u001b[0m\u001b[37m\u001b[0m \u001b[1m0s\u001b[0m 11ms/step - loss: 0.0030 - mae: 0.0306 - val_loss: 1.3743e-04 - val_mae: 0.0053 - learning_rate: 9.0000e-04\n",
      "Epoch 37/100\n",
      "\u001b[1m13/14\u001b[0m \u001b[32m━━━━━━━━━━━━━━━━━━\u001b[0m\u001b[37m━━\u001b[0m \u001b[1m0s\u001b[0m 9ms/step - loss: 0.0026 - mae: 0.0297\n",
      "Epoch 37: val_loss did not improve from 0.00012\n",
      "\u001b[1m14/14\u001b[0m \u001b[32m━━━━━━━━━━━━━━━━━━━━\u001b[0m\u001b[37m\u001b[0m \u001b[1m0s\u001b[0m 11ms/step - loss: 0.0029 - mae: 0.0301 - val_loss: 1.3739e-04 - val_mae: 0.0053 - learning_rate: 9.0000e-05\n",
      "Epoch 38/100\n",
      "\u001b[1m14/14\u001b[0m \u001b[32m━━━━━━━━━━━━━━━━━━━━\u001b[0m\u001b[37m\u001b[0m \u001b[1m0s\u001b[0m 8ms/step - loss: 0.0028 - mae: 0.0301\n",
      "Epoch 38: val_loss did not improve from 0.00012\n",
      "\u001b[1m14/14\u001b[0m \u001b[32m━━━━━━━━━━━━━━━━━━━━\u001b[0m\u001b[37m\u001b[0m \u001b[1m0s\u001b[0m 11ms/step - loss: 0.0027 - mae: 0.0301 - val_loss: 1.2536e-04 - val_mae: 0.0052 - learning_rate: 9.0000e-05\n",
      "Epoch 39/100\n",
      "\u001b[1m13/14\u001b[0m \u001b[32m━━━━━━━━━━━━━━━━━━\u001b[0m\u001b[37m━━\u001b[0m \u001b[1m0s\u001b[0m 9ms/step - loss: 0.0033 - mae: 0.0306\n",
      "Epoch 39: val_loss did not improve from 0.00012\n",
      "\u001b[1m14/14\u001b[0m \u001b[32m━━━━━━━━━━━━━━━━━━━━\u001b[0m\u001b[37m\u001b[0m \u001b[1m0s\u001b[0m 12ms/step - loss: 0.0034 - mae: 0.0313 - val_loss: 1.2752e-04 - val_mae: 0.0052 - learning_rate: 9.0000e-05\n",
      "Epoch 40/100\n",
      "\u001b[1m12/14\u001b[0m \u001b[32m━━━━━━━━━━━━━━━━━\u001b[0m\u001b[37m━━━\u001b[0m \u001b[1m0s\u001b[0m 10ms/step - loss: 0.0026 - mae: 0.0297\n",
      "Epoch 40: val_loss did not improve from 0.00012\n",
      "\u001b[1m14/14\u001b[0m \u001b[32m━━━━━━━━━━━━━━━━━━━━\u001b[0m\u001b[37m\u001b[0m \u001b[1m0s\u001b[0m 12ms/step - loss: 0.0028 - mae: 0.0298 - val_loss: 1.2457e-04 - val_mae: 0.0051 - learning_rate: 9.0000e-05\n",
      "Epoch 41/100\n",
      "\u001b[1m13/14\u001b[0m \u001b[32m━━━━━━━━━━━━━━━━━━\u001b[0m\u001b[37m━━\u001b[0m \u001b[1m0s\u001b[0m 9ms/step - loss: 0.0030 - mae: 0.0297\n",
      "Epoch 41: val_loss did not improve from 0.00012\n",
      "\u001b[1m14/14\u001b[0m \u001b[32m━━━━━━━━━━━━━━━━━━━━\u001b[0m\u001b[37m\u001b[0m \u001b[1m0s\u001b[0m 11ms/step - loss: 0.0028 - mae: 0.0297 - val_loss: 1.2315e-04 - val_mae: 0.0051 - learning_rate: 9.0000e-05\n",
      "Epoch 42/100\n",
      "\u001b[1m 8/14\u001b[0m \u001b[32m━━━━━━━━━━━\u001b[0m\u001b[37m━━━━━━━━━\u001b[0m \u001b[1m0s\u001b[0m 8ms/step - loss: 0.0035 - mae: 0.0305 \n",
      "Epoch 42: val_loss improved from 0.00012 to 0.00012, saving model to LSTM-weights-best.h5\n"
     ]
    },
    {
     "name": "stderr",
     "output_type": "stream",
     "text": [
      "WARNING:absl:You are saving your model as an HDF5 file via `model.save()` or `keras.saving.save_model(model)`. This file format is considered legacy. We recommend using instead the native Keras format, e.g. `model.save('my_model.keras')` or `keras.saving.save_model(model, 'my_model.keras')`. \n"
     ]
    },
    {
     "name": "stdout",
     "output_type": "stream",
     "text": [
      "\u001b[1m14/14\u001b[0m \u001b[32m━━━━━━━━━━━━━━━━━━━━\u001b[0m\u001b[37m\u001b[0m \u001b[1m0s\u001b[0m 12ms/step - loss: 0.0032 - mae: 0.0302 - val_loss: 1.1879e-04 - val_mae: 0.0050 - learning_rate: 9.0000e-05\n",
      "Epoch 43/100\n",
      "\u001b[1m 8/14\u001b[0m \u001b[32m━━━━━━━━━━━\u001b[0m\u001b[37m━━━━━━━━━\u001b[0m \u001b[1m0s\u001b[0m 8ms/step - loss: 0.0025 - mae: 0.0292 \n",
      "Epoch 43: val_loss improved from 0.00012 to 0.00012, saving model to LSTM-weights-best.h5\n"
     ]
    },
    {
     "name": "stderr",
     "output_type": "stream",
     "text": [
      "WARNING:absl:You are saving your model as an HDF5 file via `model.save()` or `keras.saving.save_model(model)`. This file format is considered legacy. We recommend using instead the native Keras format, e.g. `model.save('my_model.keras')` or `keras.saving.save_model(model, 'my_model.keras')`. \n"
     ]
    },
    {
     "name": "stdout",
     "output_type": "stream",
     "text": [
      "\u001b[1m14/14\u001b[0m \u001b[32m━━━━━━━━━━━━━━━━━━━━\u001b[0m\u001b[37m\u001b[0m \u001b[1m0s\u001b[0m 11ms/step - loss: 0.0025 - mae: 0.0289 - val_loss: 1.1622e-04 - val_mae: 0.0050 - learning_rate: 9.0000e-05\n",
      "Epoch 44/100\n",
      "\u001b[1m 8/14\u001b[0m \u001b[32m━━━━━━━━━━━\u001b[0m\u001b[37m━━━━━━━━━\u001b[0m \u001b[1m0s\u001b[0m 8ms/step - loss: 0.0024 - mae: 0.0278 \n",
      "Epoch 44: val_loss improved from 0.00012 to 0.00011, saving model to LSTM-weights-best.h5\n"
     ]
    },
    {
     "name": "stderr",
     "output_type": "stream",
     "text": [
      "WARNING:absl:You are saving your model as an HDF5 file via `model.save()` or `keras.saving.save_model(model)`. This file format is considered legacy. We recommend using instead the native Keras format, e.g. `model.save('my_model.keras')` or `keras.saving.save_model(model, 'my_model.keras')`. \n"
     ]
    },
    {
     "name": "stdout",
     "output_type": "stream",
     "text": [
      "\u001b[1m14/14\u001b[0m \u001b[32m━━━━━━━━━━━━━━━━━━━━\u001b[0m\u001b[37m\u001b[0m \u001b[1m0s\u001b[0m 11ms/step - loss: 0.0024 - mae: 0.0281 - val_loss: 1.1478e-04 - val_mae: 0.0049 - learning_rate: 9.0000e-05\n",
      "Epoch 45/100\n",
      "\u001b[1m14/14\u001b[0m \u001b[32m━━━━━━━━━━━━━━━━━━━━\u001b[0m\u001b[37m\u001b[0m \u001b[1m0s\u001b[0m 8ms/step - loss: 0.0026 - mae: 0.0287\n",
      "Epoch 45: val_loss did not improve from 0.00011\n",
      "\u001b[1m14/14\u001b[0m \u001b[32m━━━━━━━━━━━━━━━━━━━━\u001b[0m\u001b[37m\u001b[0m \u001b[1m0s\u001b[0m 11ms/step - loss: 0.0027 - mae: 0.0288 - val_loss: 1.1724e-04 - val_mae: 0.0049 - learning_rate: 9.0000e-05\n",
      "Epoch 46/100\n",
      "\u001b[1m14/14\u001b[0m \u001b[32m━━━━━━━━━━━━━━━━━━━━\u001b[0m\u001b[37m\u001b[0m \u001b[1m0s\u001b[0m 8ms/step - loss: 0.0024 - mae: 0.0283\n",
      "Epoch 46: val_loss improved from 0.00011 to 0.00011, saving model to LSTM-weights-best.h5\n"
     ]
    },
    {
     "name": "stderr",
     "output_type": "stream",
     "text": [
      "WARNING:absl:You are saving your model as an HDF5 file via `model.save()` or `keras.saving.save_model(model)`. This file format is considered legacy. We recommend using instead the native Keras format, e.g. `model.save('my_model.keras')` or `keras.saving.save_model(model, 'my_model.keras')`. \n"
     ]
    },
    {
     "name": "stdout",
     "output_type": "stream",
     "text": [
      "\n",
      "Epoch 46: ReduceLROnPlateau reducing learning rate to 9.000000136438758e-06.\n",
      "\u001b[1m14/14\u001b[0m \u001b[32m━━━━━━━━━━━━━━━━━━━━\u001b[0m\u001b[37m\u001b[0m \u001b[1m0s\u001b[0m 12ms/step - loss: 0.0025 - mae: 0.0286 - val_loss: 1.1063e-04 - val_mae: 0.0048 - learning_rate: 9.0000e-05\n",
      "Epoch 47/100\n",
      "\u001b[1m14/14\u001b[0m \u001b[32m━━━━━━━━━━━━━━━━━━━━\u001b[0m\u001b[37m\u001b[0m \u001b[1m0s\u001b[0m 8ms/step - loss: 0.0026 - mae: 0.0285\n",
      "Epoch 47: val_loss improved from 0.00011 to 0.00011, saving model to LSTM-weights-best.h5\n"
     ]
    },
    {
     "name": "stderr",
     "output_type": "stream",
     "text": [
      "WARNING:absl:You are saving your model as an HDF5 file via `model.save()` or `keras.saving.save_model(model)`. This file format is considered legacy. We recommend using instead the native Keras format, e.g. `model.save('my_model.keras')` or `keras.saving.save_model(model, 'my_model.keras')`. \n"
     ]
    },
    {
     "name": "stdout",
     "output_type": "stream",
     "text": [
      "\u001b[1m14/14\u001b[0m \u001b[32m━━━━━━━━━━━━━━━━━━━━\u001b[0m\u001b[37m\u001b[0m \u001b[1m0s\u001b[0m 12ms/step - loss: 0.0027 - mae: 0.0288 - val_loss: 1.1030e-04 - val_mae: 0.0048 - learning_rate: 9.0000e-06\n",
      "Epoch 48/100\n",
      "\u001b[1m14/14\u001b[0m \u001b[32m━━━━━━━━━━━━━━━━━━━━\u001b[0m\u001b[37m\u001b[0m \u001b[1m0s\u001b[0m 8ms/step - loss: 0.0033 - mae: 0.0293\n",
      "Epoch 48: val_loss improved from 0.00011 to 0.00011, saving model to LSTM-weights-best.h5\n"
     ]
    },
    {
     "name": "stderr",
     "output_type": "stream",
     "text": [
      "WARNING:absl:You are saving your model as an HDF5 file via `model.save()` or `keras.saving.save_model(model)`. This file format is considered legacy. We recommend using instead the native Keras format, e.g. `model.save('my_model.keras')` or `keras.saving.save_model(model, 'my_model.keras')`. \n"
     ]
    },
    {
     "name": "stdout",
     "output_type": "stream",
     "text": [
      "\u001b[1m14/14\u001b[0m \u001b[32m━━━━━━━━━━━━━━━━━━━━\u001b[0m\u001b[37m\u001b[0m \u001b[1m0s\u001b[0m 12ms/step - loss: 0.0029 - mae: 0.0288 - val_loss: 1.0995e-04 - val_mae: 0.0048 - learning_rate: 9.0000e-06\n",
      "Epoch 49/100\n",
      "\u001b[1m 8/14\u001b[0m \u001b[32m━━━━━━━━━━━\u001b[0m\u001b[37m━━━━━━━━━\u001b[0m \u001b[1m0s\u001b[0m 8ms/step - loss: 0.0033 - mae: 0.0293 \n",
      "Epoch 49: val_loss improved from 0.00011 to 0.00011, saving model to LSTM-weights-best.h5\n"
     ]
    },
    {
     "name": "stderr",
     "output_type": "stream",
     "text": [
      "WARNING:absl:You are saving your model as an HDF5 file via `model.save()` or `keras.saving.save_model(model)`. This file format is considered legacy. We recommend using instead the native Keras format, e.g. `model.save('my_model.keras')` or `keras.saving.save_model(model, 'my_model.keras')`. \n"
     ]
    },
    {
     "name": "stdout",
     "output_type": "stream",
     "text": [
      "\u001b[1m14/14\u001b[0m \u001b[32m━━━━━━━━━━━━━━━━━━━━\u001b[0m\u001b[37m\u001b[0m \u001b[1m0s\u001b[0m 11ms/step - loss: 0.0028 - mae: 0.0287 - val_loss: 1.0962e-04 - val_mae: 0.0048 - learning_rate: 9.0000e-06\n",
      "Epoch 50/100\n",
      "\u001b[1m 8/14\u001b[0m \u001b[32m━━━━━━━━━━━\u001b[0m\u001b[37m━━━━━━━━━\u001b[0m \u001b[1m0s\u001b[0m 8ms/step - loss: 0.0027 - mae: 0.0288 \n",
      "Epoch 50: val_loss improved from 0.00011 to 0.00011, saving model to LSTM-weights-best.h5\n"
     ]
    },
    {
     "name": "stderr",
     "output_type": "stream",
     "text": [
      "WARNING:absl:You are saving your model as an HDF5 file via `model.save()` or `keras.saving.save_model(model)`. This file format is considered legacy. We recommend using instead the native Keras format, e.g. `model.save('my_model.keras')` or `keras.saving.save_model(model, 'my_model.keras')`. \n"
     ]
    },
    {
     "name": "stdout",
     "output_type": "stream",
     "text": [
      "\u001b[1m14/14\u001b[0m \u001b[32m━━━━━━━━━━━━━━━━━━━━\u001b[0m\u001b[37m\u001b[0m \u001b[1m0s\u001b[0m 11ms/step - loss: 0.0028 - mae: 0.0289 - val_loss: 1.0933e-04 - val_mae: 0.0048 - learning_rate: 9.0000e-06\n",
      "Epoch 51/100\n",
      "\u001b[1m14/14\u001b[0m \u001b[32m━━━━━━━━━━━━━━━━━━━━\u001b[0m\u001b[37m\u001b[0m \u001b[1m0s\u001b[0m 8ms/step - loss: 0.0029 - mae: 0.0290\n",
      "Epoch 51: val_loss improved from 0.00011 to 0.00011, saving model to LSTM-weights-best.h5\n"
     ]
    },
    {
     "name": "stderr",
     "output_type": "stream",
     "text": [
      "WARNING:absl:You are saving your model as an HDF5 file via `model.save()` or `keras.saving.save_model(model)`. This file format is considered legacy. We recommend using instead the native Keras format, e.g. `model.save('my_model.keras')` or `keras.saving.save_model(model, 'my_model.keras')`. \n"
     ]
    },
    {
     "name": "stdout",
     "output_type": "stream",
     "text": [
      "\u001b[1m14/14\u001b[0m \u001b[32m━━━━━━━━━━━━━━━━━━━━\u001b[0m\u001b[37m\u001b[0m \u001b[1m0s\u001b[0m 12ms/step - loss: 0.0026 - mae: 0.0284 - val_loss: 1.0889e-04 - val_mae: 0.0048 - learning_rate: 9.0000e-06\n",
      "Epoch 52/100\n",
      "\u001b[1m14/14\u001b[0m \u001b[32m━━━━━━━━━━━━━━━━━━━━\u001b[0m\u001b[37m\u001b[0m \u001b[1m0s\u001b[0m 8ms/step - loss: 0.0026 - mae: 0.0283\n",
      "Epoch 52: val_loss improved from 0.00011 to 0.00011, saving model to LSTM-weights-best.h5\n"
     ]
    },
    {
     "name": "stderr",
     "output_type": "stream",
     "text": [
      "WARNING:absl:You are saving your model as an HDF5 file via `model.save()` or `keras.saving.save_model(model)`. This file format is considered legacy. We recommend using instead the native Keras format, e.g. `model.save('my_model.keras')` or `keras.saving.save_model(model, 'my_model.keras')`. \n"
     ]
    },
    {
     "name": "stdout",
     "output_type": "stream",
     "text": [
      "\u001b[1m14/14\u001b[0m \u001b[32m━━━━━━━━━━━━━━━━━━━━\u001b[0m\u001b[37m\u001b[0m \u001b[1m0s\u001b[0m 12ms/step - loss: 0.0027 - mae: 0.0287 - val_loss: 1.0859e-04 - val_mae: 0.0048 - learning_rate: 9.0000e-06\n",
      "Epoch 53/100\n",
      "\u001b[1m14/14\u001b[0m \u001b[32m━━━━━━━━━━━━━━━━━━━━\u001b[0m\u001b[37m\u001b[0m \u001b[1m0s\u001b[0m 8ms/step - loss: 0.0026 - mae: 0.0285\n",
      "Epoch 53: val_loss improved from 0.00011 to 0.00011, saving model to LSTM-weights-best.h5\n"
     ]
    },
    {
     "name": "stderr",
     "output_type": "stream",
     "text": [
      "WARNING:absl:You are saving your model as an HDF5 file via `model.save()` or `keras.saving.save_model(model)`. This file format is considered legacy. We recommend using instead the native Keras format, e.g. `model.save('my_model.keras')` or `keras.saving.save_model(model, 'my_model.keras')`. \n"
     ]
    },
    {
     "name": "stdout",
     "output_type": "stream",
     "text": [
      "\u001b[1m14/14\u001b[0m \u001b[32m━━━━━━━━━━━━━━━━━━━━\u001b[0m\u001b[37m\u001b[0m \u001b[1m0s\u001b[0m 11ms/step - loss: 0.0026 - mae: 0.0285 - val_loss: 1.0832e-04 - val_mae: 0.0048 - learning_rate: 9.0000e-06\n",
      "Epoch 54/100\n",
      "\u001b[1m 8/14\u001b[0m \u001b[32m━━━━━━━━━━━\u001b[0m\u001b[37m━━━━━━━━━\u001b[0m \u001b[1m0s\u001b[0m 8ms/step - loss: 0.0027 - mae: 0.0286 \n",
      "Epoch 54: val_loss improved from 0.00011 to 0.00011, saving model to LSTM-weights-best.h5\n"
     ]
    },
    {
     "name": "stderr",
     "output_type": "stream",
     "text": [
      "WARNING:absl:You are saving your model as an HDF5 file via `model.save()` or `keras.saving.save_model(model)`. This file format is considered legacy. We recommend using instead the native Keras format, e.g. `model.save('my_model.keras')` or `keras.saving.save_model(model, 'my_model.keras')`. \n"
     ]
    },
    {
     "name": "stdout",
     "output_type": "stream",
     "text": [
      "\u001b[1m14/14\u001b[0m \u001b[32m━━━━━━━━━━━━━━━━━━━━\u001b[0m\u001b[37m\u001b[0m \u001b[1m0s\u001b[0m 11ms/step - loss: 0.0027 - mae: 0.0285 - val_loss: 1.0807e-04 - val_mae: 0.0048 - learning_rate: 9.0000e-06\n",
      "Epoch 55/100\n",
      "\u001b[1m14/14\u001b[0m \u001b[32m━━━━━━━━━━━━━━━━━━━━\u001b[0m\u001b[37m\u001b[0m \u001b[1m0s\u001b[0m 8ms/step - loss: 0.0027 - mae: 0.0284\n",
      "Epoch 55: val_loss improved from 0.00011 to 0.00011, saving model to LSTM-weights-best.h5\n"
     ]
    },
    {
     "name": "stderr",
     "output_type": "stream",
     "text": [
      "WARNING:absl:You are saving your model as an HDF5 file via `model.save()` or `keras.saving.save_model(model)`. This file format is considered legacy. We recommend using instead the native Keras format, e.g. `model.save('my_model.keras')` or `keras.saving.save_model(model, 'my_model.keras')`. \n"
     ]
    },
    {
     "name": "stdout",
     "output_type": "stream",
     "text": [
      "\u001b[1m14/14\u001b[0m \u001b[32m━━━━━━━━━━━━━━━━━━━━\u001b[0m\u001b[37m\u001b[0m \u001b[1m0s\u001b[0m 11ms/step - loss: 0.0027 - mae: 0.0286 - val_loss: 1.0788e-04 - val_mae: 0.0048 - learning_rate: 9.0000e-06\n",
      "Epoch 56/100\n",
      "\u001b[1m 8/14\u001b[0m \u001b[32m━━━━━━━━━━━\u001b[0m\u001b[37m━━━━━━━━━\u001b[0m \u001b[1m0s\u001b[0m 8ms/step - loss: 0.0026 - mae: 0.0281 \n",
      "Epoch 56: val_loss improved from 0.00011 to 0.00011, saving model to LSTM-weights-best.h5\n"
     ]
    },
    {
     "name": "stderr",
     "output_type": "stream",
     "text": [
      "WARNING:absl:You are saving your model as an HDF5 file via `model.save()` or `keras.saving.save_model(model)`. This file format is considered legacy. We recommend using instead the native Keras format, e.g. `model.save('my_model.keras')` or `keras.saving.save_model(model, 'my_model.keras')`. \n"
     ]
    },
    {
     "name": "stdout",
     "output_type": "stream",
     "text": [
      "\n",
      "Epoch 56: ReduceLROnPlateau reducing learning rate to 9.000000318337698e-07.\n",
      "\u001b[1m14/14\u001b[0m \u001b[32m━━━━━━━━━━━━━━━━━━━━\u001b[0m\u001b[37m\u001b[0m \u001b[1m0s\u001b[0m 11ms/step - loss: 0.0026 - mae: 0.0284 - val_loss: 1.0756e-04 - val_mae: 0.0048 - learning_rate: 9.0000e-06\n",
      "Epoch 57/100\n",
      "\u001b[1m 8/14\u001b[0m \u001b[32m━━━━━━━━━━━\u001b[0m\u001b[37m━━━━━━━━━\u001b[0m \u001b[1m0s\u001b[0m 8ms/step - loss: 0.0030 - mae: 0.0289 \n",
      "Epoch 57: val_loss improved from 0.00011 to 0.00011, saving model to LSTM-weights-best.h5\n"
     ]
    },
    {
     "name": "stderr",
     "output_type": "stream",
     "text": [
      "WARNING:absl:You are saving your model as an HDF5 file via `model.save()` or `keras.saving.save_model(model)`. This file format is considered legacy. We recommend using instead the native Keras format, e.g. `model.save('my_model.keras')` or `keras.saving.save_model(model, 'my_model.keras')`. \n"
     ]
    },
    {
     "name": "stdout",
     "output_type": "stream",
     "text": [
      "\u001b[1m14/14\u001b[0m \u001b[32m━━━━━━━━━━━━━━━━━━━━\u001b[0m\u001b[37m\u001b[0m \u001b[1m0s\u001b[0m 12ms/step - loss: 0.0027 - mae: 0.0285 - val_loss: 1.0753e-04 - val_mae: 0.0048 - learning_rate: 9.0000e-07\n",
      "Epoch 58/100\n",
      "\u001b[1m 8/14\u001b[0m \u001b[32m━━━━━━━━━━━\u001b[0m\u001b[37m━━━━━━━━━\u001b[0m \u001b[1m0s\u001b[0m 8ms/step - loss: 0.0029 - mae: 0.0289 \n",
      "Epoch 58: val_loss improved from 0.00011 to 0.00011, saving model to LSTM-weights-best.h5\n"
     ]
    },
    {
     "name": "stderr",
     "output_type": "stream",
     "text": [
      "WARNING:absl:You are saving your model as an HDF5 file via `model.save()` or `keras.saving.save_model(model)`. This file format is considered legacy. We recommend using instead the native Keras format, e.g. `model.save('my_model.keras')` or `keras.saving.save_model(model, 'my_model.keras')`. \n"
     ]
    },
    {
     "name": "stdout",
     "output_type": "stream",
     "text": [
      "\u001b[1m14/14\u001b[0m \u001b[32m━━━━━━━━━━━━━━━━━━━━\u001b[0m\u001b[37m\u001b[0m \u001b[1m0s\u001b[0m 12ms/step - loss: 0.0028 - mae: 0.0288 - val_loss: 1.0749e-04 - val_mae: 0.0048 - learning_rate: 9.0000e-07\n",
      "Epoch 59/100\n",
      "\u001b[1m13/14\u001b[0m \u001b[32m━━━━━━━━━━━━━━━━━━\u001b[0m\u001b[37m━━\u001b[0m \u001b[1m0s\u001b[0m 8ms/step - loss: 0.0025 - mae: 0.0282\n",
      "Epoch 59: val_loss improved from 0.00011 to 0.00011, saving model to LSTM-weights-best.h5\n"
     ]
    },
    {
     "name": "stderr",
     "output_type": "stream",
     "text": [
      "WARNING:absl:You are saving your model as an HDF5 file via `model.save()` or `keras.saving.save_model(model)`. This file format is considered legacy. We recommend using instead the native Keras format, e.g. `model.save('my_model.keras')` or `keras.saving.save_model(model, 'my_model.keras')`. \n"
     ]
    },
    {
     "name": "stdout",
     "output_type": "stream",
     "text": [
      "\u001b[1m14/14\u001b[0m \u001b[32m━━━━━━━━━━━━━━━━━━━━\u001b[0m\u001b[37m\u001b[0m \u001b[1m0s\u001b[0m 12ms/step - loss: 0.0027 - mae: 0.0283 - val_loss: 1.0746e-04 - val_mae: 0.0048 - learning_rate: 9.0000e-07\n",
      "Epoch 60/100\n",
      "\u001b[1m14/14\u001b[0m \u001b[32m━━━━━━━━━━━━━━━━━━━━\u001b[0m\u001b[37m\u001b[0m \u001b[1m0s\u001b[0m 8ms/step - loss: 0.0028 - mae: 0.0288\n",
      "Epoch 60: val_loss improved from 0.00011 to 0.00011, saving model to LSTM-weights-best.h5\n"
     ]
    },
    {
     "name": "stderr",
     "output_type": "stream",
     "text": [
      "WARNING:absl:You are saving your model as an HDF5 file via `model.save()` or `keras.saving.save_model(model)`. This file format is considered legacy. We recommend using instead the native Keras format, e.g. `model.save('my_model.keras')` or `keras.saving.save_model(model, 'my_model.keras')`. \n"
     ]
    },
    {
     "name": "stdout",
     "output_type": "stream",
     "text": [
      "\u001b[1m14/14\u001b[0m \u001b[32m━━━━━━━━━━━━━━━━━━━━\u001b[0m\u001b[37m\u001b[0m \u001b[1m0s\u001b[0m 11ms/step - loss: 0.0025 - mae: 0.0281 - val_loss: 1.0742e-04 - val_mae: 0.0048 - learning_rate: 9.0000e-07\n",
      "Epoch 61/100\n",
      "\u001b[1m 8/14\u001b[0m \u001b[32m━━━━━━━━━━━\u001b[0m\u001b[37m━━━━━━━━━\u001b[0m \u001b[1m0s\u001b[0m 8ms/step - loss: 0.0036 - mae: 0.0302 \n",
      "Epoch 61: val_loss improved from 0.00011 to 0.00011, saving model to LSTM-weights-best.h5\n"
     ]
    },
    {
     "name": "stderr",
     "output_type": "stream",
     "text": [
      "WARNING:absl:You are saving your model as an HDF5 file via `model.save()` or `keras.saving.save_model(model)`. This file format is considered legacy. We recommend using instead the native Keras format, e.g. `model.save('my_model.keras')` or `keras.saving.save_model(model, 'my_model.keras')`. \n"
     ]
    },
    {
     "name": "stdout",
     "output_type": "stream",
     "text": [
      "\u001b[1m14/14\u001b[0m \u001b[32m━━━━━━━━━━━━━━━━━━━━\u001b[0m\u001b[37m\u001b[0m \u001b[1m0s\u001b[0m 11ms/step - loss: 0.0028 - mae: 0.0285 - val_loss: 1.0740e-04 - val_mae: 0.0048 - learning_rate: 9.0000e-07\n",
      "Epoch 62/100\n",
      "\u001b[1m 8/14\u001b[0m \u001b[32m━━━━━━━━━━━\u001b[0m\u001b[37m━━━━━━━━━\u001b[0m \u001b[1m0s\u001b[0m 8ms/step - loss: 0.0025 - mae: 0.0283 \n",
      "Epoch 62: val_loss improved from 0.00011 to 0.00011, saving model to LSTM-weights-best.h5\n"
     ]
    },
    {
     "name": "stderr",
     "output_type": "stream",
     "text": [
      "WARNING:absl:You are saving your model as an HDF5 file via `model.save()` or `keras.saving.save_model(model)`. This file format is considered legacy. We recommend using instead the native Keras format, e.g. `model.save('my_model.keras')` or `keras.saving.save_model(model, 'my_model.keras')`. \n"
     ]
    },
    {
     "name": "stdout",
     "output_type": "stream",
     "text": [
      "\u001b[1m14/14\u001b[0m \u001b[32m━━━━━━━━━━━━━━━━━━━━\u001b[0m\u001b[37m\u001b[0m \u001b[1m0s\u001b[0m 11ms/step - loss: 0.0027 - mae: 0.0285 - val_loss: 1.0737e-04 - val_mae: 0.0048 - learning_rate: 9.0000e-07\n",
      "Epoch 63/100\n",
      "\u001b[1m13/14\u001b[0m \u001b[32m━━━━━━━━━━━━━━━━━━\u001b[0m\u001b[37m━━\u001b[0m \u001b[1m0s\u001b[0m 8ms/step - loss: 0.0027 - mae: 0.0285\n",
      "Epoch 63: val_loss improved from 0.00011 to 0.00011, saving model to LSTM-weights-best.h5\n"
     ]
    },
    {
     "name": "stderr",
     "output_type": "stream",
     "text": [
      "WARNING:absl:You are saving your model as an HDF5 file via `model.save()` or `keras.saving.save_model(model)`. This file format is considered legacy. We recommend using instead the native Keras format, e.g. `model.save('my_model.keras')` or `keras.saving.save_model(model, 'my_model.keras')`. \n"
     ]
    },
    {
     "name": "stdout",
     "output_type": "stream",
     "text": [
      "\u001b[1m14/14\u001b[0m \u001b[32m━━━━━━━━━━━━━━━━━━━━\u001b[0m\u001b[37m\u001b[0m \u001b[1m0s\u001b[0m 12ms/step - loss: 0.0025 - mae: 0.0280 - val_loss: 1.0734e-04 - val_mae: 0.0048 - learning_rate: 9.0000e-07\n",
      "Epoch 64/100\n",
      "\u001b[1m 8/14\u001b[0m \u001b[32m━━━━━━━━━━━\u001b[0m\u001b[37m━━━━━━━━━\u001b[0m \u001b[1m0s\u001b[0m 8ms/step - loss: 0.0030 - mae: 0.0286 \n",
      "Epoch 64: val_loss improved from 0.00011 to 0.00011, saving model to LSTM-weights-best.h5\n"
     ]
    },
    {
     "name": "stderr",
     "output_type": "stream",
     "text": [
      "WARNING:absl:You are saving your model as an HDF5 file via `model.save()` or `keras.saving.save_model(model)`. This file format is considered legacy. We recommend using instead the native Keras format, e.g. `model.save('my_model.keras')` or `keras.saving.save_model(model, 'my_model.keras')`. \n"
     ]
    },
    {
     "name": "stdout",
     "output_type": "stream",
     "text": [
      "\u001b[1m14/14\u001b[0m \u001b[32m━━━━━━━━━━━━━━━━━━━━\u001b[0m\u001b[37m\u001b[0m \u001b[1m0s\u001b[0m 11ms/step - loss: 0.0027 - mae: 0.0280 - val_loss: 1.0732e-04 - val_mae: 0.0048 - learning_rate: 9.0000e-07\n",
      "Epoch 65/100\n",
      "\u001b[1m 8/14\u001b[0m \u001b[32m━━━━━━━━━━━\u001b[0m\u001b[37m━━━━━━━━━\u001b[0m \u001b[1m0s\u001b[0m 8ms/step - loss: 0.0034 - mae: 0.0293 \n",
      "Epoch 65: val_loss improved from 0.00011 to 0.00011, saving model to LSTM-weights-best.h5\n"
     ]
    },
    {
     "name": "stderr",
     "output_type": "stream",
     "text": [
      "WARNING:absl:You are saving your model as an HDF5 file via `model.save()` or `keras.saving.save_model(model)`. This file format is considered legacy. We recommend using instead the native Keras format, e.g. `model.save('my_model.keras')` or `keras.saving.save_model(model, 'my_model.keras')`. \n"
     ]
    },
    {
     "name": "stdout",
     "output_type": "stream",
     "text": [
      "\u001b[1m14/14\u001b[0m \u001b[32m━━━━━━━━━━━━━━━━━━━━\u001b[0m\u001b[37m\u001b[0m \u001b[1m0s\u001b[0m 11ms/step - loss: 0.0027 - mae: 0.0283 - val_loss: 1.0730e-04 - val_mae: 0.0048 - learning_rate: 9.0000e-07\n",
      "Epoch 66/100\n",
      "\u001b[1m 8/14\u001b[0m \u001b[32m━━━━━━━━━━━\u001b[0m\u001b[37m━━━━━━━━━\u001b[0m \u001b[1m0s\u001b[0m 8ms/step - loss: 0.0028 - mae: 0.0280 \n",
      "Epoch 66: val_loss improved from 0.00011 to 0.00011, saving model to LSTM-weights-best.h5\n"
     ]
    },
    {
     "name": "stderr",
     "output_type": "stream",
     "text": [
      "WARNING:absl:You are saving your model as an HDF5 file via `model.save()` or `keras.saving.save_model(model)`. This file format is considered legacy. We recommend using instead the native Keras format, e.g. `model.save('my_model.keras')` or `keras.saving.save_model(model, 'my_model.keras')`. \n"
     ]
    },
    {
     "name": "stdout",
     "output_type": "stream",
     "text": [
      "\n",
      "Epoch 66: ReduceLROnPlateau reducing learning rate to 9.000000318337698e-08.\n",
      "\u001b[1m14/14\u001b[0m \u001b[32m━━━━━━━━━━━━━━━━━━━━\u001b[0m\u001b[37m\u001b[0m \u001b[1m0s\u001b[0m 12ms/step - loss: 0.0026 - mae: 0.0281 - val_loss: 1.0726e-04 - val_mae: 0.0048 - learning_rate: 9.0000e-07\n",
      "Epoch 67/100\n",
      "\u001b[1m 8/14\u001b[0m \u001b[32m━━━━━━━━━━━\u001b[0m\u001b[37m━━━━━━━━━\u001b[0m \u001b[1m0s\u001b[0m 8ms/step - loss: 0.0023 - mae: 0.0281 \n",
      "Epoch 67: val_loss improved from 0.00011 to 0.00011, saving model to LSTM-weights-best.h5\n"
     ]
    },
    {
     "name": "stderr",
     "output_type": "stream",
     "text": [
      "WARNING:absl:You are saving your model as an HDF5 file via `model.save()` or `keras.saving.save_model(model)`. This file format is considered legacy. We recommend using instead the native Keras format, e.g. `model.save('my_model.keras')` or `keras.saving.save_model(model, 'my_model.keras')`. \n"
     ]
    },
    {
     "name": "stdout",
     "output_type": "stream",
     "text": [
      "\u001b[1m14/14\u001b[0m \u001b[32m━━━━━━━━━━━━━━━━━━━━\u001b[0m\u001b[37m\u001b[0m \u001b[1m0s\u001b[0m 11ms/step - loss: 0.0027 - mae: 0.0286 - val_loss: 1.0726e-04 - val_mae: 0.0048 - learning_rate: 9.0000e-08\n",
      "Epoch 68/100\n",
      "\u001b[1m 8/14\u001b[0m \u001b[32m━━━━━━━━━━━\u001b[0m\u001b[37m━━━━━━━━━\u001b[0m \u001b[1m0s\u001b[0m 8ms/step - loss: 0.0024 - mae: 0.0279 \n",
      "Epoch 68: val_loss improved from 0.00011 to 0.00011, saving model to LSTM-weights-best.h5\n"
     ]
    },
    {
     "name": "stderr",
     "output_type": "stream",
     "text": [
      "WARNING:absl:You are saving your model as an HDF5 file via `model.save()` or `keras.saving.save_model(model)`. This file format is considered legacy. We recommend using instead the native Keras format, e.g. `model.save('my_model.keras')` or `keras.saving.save_model(model, 'my_model.keras')`. \n"
     ]
    },
    {
     "name": "stdout",
     "output_type": "stream",
     "text": [
      "\u001b[1m14/14\u001b[0m \u001b[32m━━━━━━━━━━━━━━━━━━━━\u001b[0m\u001b[37m\u001b[0m \u001b[1m0s\u001b[0m 11ms/step - loss: 0.0027 - mae: 0.0284 - val_loss: 1.0725e-04 - val_mae: 0.0048 - learning_rate: 9.0000e-08\n",
      "Epoch 69/100\n",
      "\u001b[1m 8/14\u001b[0m \u001b[32m━━━━━━━━━━━\u001b[0m\u001b[37m━━━━━━━━━\u001b[0m \u001b[1m0s\u001b[0m 8ms/step - loss: 0.0026 - mae: 0.0283 \n",
      "Epoch 69: val_loss improved from 0.00011 to 0.00011, saving model to LSTM-weights-best.h5\n"
     ]
    },
    {
     "name": "stderr",
     "output_type": "stream",
     "text": [
      "WARNING:absl:You are saving your model as an HDF5 file via `model.save()` or `keras.saving.save_model(model)`. This file format is considered legacy. We recommend using instead the native Keras format, e.g. `model.save('my_model.keras')` or `keras.saving.save_model(model, 'my_model.keras')`. \n"
     ]
    },
    {
     "name": "stdout",
     "output_type": "stream",
     "text": [
      "\u001b[1m14/14\u001b[0m \u001b[32m━━━━━━━━━━━━━━━━━━━━\u001b[0m\u001b[37m\u001b[0m \u001b[1m0s\u001b[0m 12ms/step - loss: 0.0026 - mae: 0.0284 - val_loss: 1.0725e-04 - val_mae: 0.0048 - learning_rate: 9.0000e-08\n",
      "Epoch 70/100\n",
      "\u001b[1m 8/14\u001b[0m \u001b[32m━━━━━━━━━━━\u001b[0m\u001b[37m━━━━━━━━━\u001b[0m \u001b[1m0s\u001b[0m 8ms/step - loss: 0.0022 - mae: 0.0276 \n",
      "Epoch 70: val_loss improved from 0.00011 to 0.00011, saving model to LSTM-weights-best.h5\n"
     ]
    },
    {
     "name": "stderr",
     "output_type": "stream",
     "text": [
      "WARNING:absl:You are saving your model as an HDF5 file via `model.save()` or `keras.saving.save_model(model)`. This file format is considered legacy. We recommend using instead the native Keras format, e.g. `model.save('my_model.keras')` or `keras.saving.save_model(model, 'my_model.keras')`. \n"
     ]
    },
    {
     "name": "stdout",
     "output_type": "stream",
     "text": [
      "\u001b[1m14/14\u001b[0m \u001b[32m━━━━━━━━━━━━━━━━━━━━\u001b[0m\u001b[37m\u001b[0m \u001b[1m0s\u001b[0m 11ms/step - loss: 0.0026 - mae: 0.0283 - val_loss: 1.0725e-04 - val_mae: 0.0048 - learning_rate: 9.0000e-08\n",
      "Epoch 71/100\n",
      "\u001b[1m13/14\u001b[0m \u001b[32m━━━━━━━━━━━━━━━━━━\u001b[0m\u001b[37m━━\u001b[0m \u001b[1m0s\u001b[0m 8ms/step - loss: 0.0027 - mae: 0.0284\n",
      "Epoch 71: val_loss improved from 0.00011 to 0.00011, saving model to LSTM-weights-best.h5\n"
     ]
    },
    {
     "name": "stderr",
     "output_type": "stream",
     "text": [
      "WARNING:absl:You are saving your model as an HDF5 file via `model.save()` or `keras.saving.save_model(model)`. This file format is considered legacy. We recommend using instead the native Keras format, e.g. `model.save('my_model.keras')` or `keras.saving.save_model(model, 'my_model.keras')`. \n"
     ]
    },
    {
     "name": "stdout",
     "output_type": "stream",
     "text": [
      "\u001b[1m14/14\u001b[0m \u001b[32m━━━━━━━━━━━━━━━━━━━━\u001b[0m\u001b[37m\u001b[0m \u001b[1m0s\u001b[0m 12ms/step - loss: 0.0029 - mae: 0.0288 - val_loss: 1.0725e-04 - val_mae: 0.0048 - learning_rate: 9.0000e-08\n",
      "Epoch 72/100\n",
      "\u001b[1m14/14\u001b[0m \u001b[32m━━━━━━━━━━━━━━━━━━━━\u001b[0m\u001b[37m\u001b[0m \u001b[1m0s\u001b[0m 8ms/step - loss: 0.0030 - mae: 0.0290\n",
      "Epoch 72: val_loss improved from 0.00011 to 0.00011, saving model to LSTM-weights-best.h5\n"
     ]
    },
    {
     "name": "stderr",
     "output_type": "stream",
     "text": [
      "WARNING:absl:You are saving your model as an HDF5 file via `model.save()` or `keras.saving.save_model(model)`. This file format is considered legacy. We recommend using instead the native Keras format, e.g. `model.save('my_model.keras')` or `keras.saving.save_model(model, 'my_model.keras')`. \n"
     ]
    },
    {
     "name": "stdout",
     "output_type": "stream",
     "text": [
      "\u001b[1m14/14\u001b[0m \u001b[32m━━━━━━━━━━━━━━━━━━━━\u001b[0m\u001b[37m\u001b[0m \u001b[1m0s\u001b[0m 12ms/step - loss: 0.0026 - mae: 0.0284 - val_loss: 1.0724e-04 - val_mae: 0.0048 - learning_rate: 9.0000e-08\n",
      "Epoch 73/100\n",
      "\u001b[1m 8/14\u001b[0m \u001b[32m━━━━━━━━━━━\u001b[0m\u001b[37m━━━━━━━━━\u001b[0m \u001b[1m0s\u001b[0m 8ms/step - loss: 0.0024 - mae: 0.0277 \n",
      "Epoch 73: val_loss improved from 0.00011 to 0.00011, saving model to LSTM-weights-best.h5\n"
     ]
    },
    {
     "name": "stderr",
     "output_type": "stream",
     "text": [
      "WARNING:absl:You are saving your model as an HDF5 file via `model.save()` or `keras.saving.save_model(model)`. This file format is considered legacy. We recommend using instead the native Keras format, e.g. `model.save('my_model.keras')` or `keras.saving.save_model(model, 'my_model.keras')`. \n"
     ]
    },
    {
     "name": "stdout",
     "output_type": "stream",
     "text": [
      "\u001b[1m14/14\u001b[0m \u001b[32m━━━━━━━━━━━━━━━━━━━━\u001b[0m\u001b[37m\u001b[0m \u001b[1m0s\u001b[0m 11ms/step - loss: 0.0026 - mae: 0.0282 - val_loss: 1.0724e-04 - val_mae: 0.0048 - learning_rate: 9.0000e-08\n",
      "Epoch 74/100\n",
      "\u001b[1m 8/14\u001b[0m \u001b[32m━━━━━━━━━━━\u001b[0m\u001b[37m━━━━━━━━━\u001b[0m \u001b[1m0s\u001b[0m 8ms/step - loss: 0.0028 - mae: 0.0291 \n",
      "Epoch 74: val_loss improved from 0.00011 to 0.00011, saving model to LSTM-weights-best.h5\n"
     ]
    },
    {
     "name": "stderr",
     "output_type": "stream",
     "text": [
      "WARNING:absl:You are saving your model as an HDF5 file via `model.save()` or `keras.saving.save_model(model)`. This file format is considered legacy. We recommend using instead the native Keras format, e.g. `model.save('my_model.keras')` or `keras.saving.save_model(model, 'my_model.keras')`. \n"
     ]
    },
    {
     "name": "stdout",
     "output_type": "stream",
     "text": [
      "\u001b[1m14/14\u001b[0m \u001b[32m━━━━━━━━━━━━━━━━━━━━\u001b[0m\u001b[37m\u001b[0m \u001b[1m0s\u001b[0m 11ms/step - loss: 0.0028 - mae: 0.0288 - val_loss: 1.0724e-04 - val_mae: 0.0048 - learning_rate: 9.0000e-08\n",
      "Epoch 75/100\n",
      "\u001b[1m 8/14\u001b[0m \u001b[32m━━━━━━━━━━━\u001b[0m\u001b[37m━━━━━━━━━\u001b[0m \u001b[1m0s\u001b[0m 8ms/step - loss: 0.0030 - mae: 0.0293 \n",
      "Epoch 75: val_loss improved from 0.00011 to 0.00011, saving model to LSTM-weights-best.h5\n"
     ]
    },
    {
     "name": "stderr",
     "output_type": "stream",
     "text": [
      "WARNING:absl:You are saving your model as an HDF5 file via `model.save()` or `keras.saving.save_model(model)`. This file format is considered legacy. We recommend using instead the native Keras format, e.g. `model.save('my_model.keras')` or `keras.saving.save_model(model, 'my_model.keras')`. \n"
     ]
    },
    {
     "name": "stdout",
     "output_type": "stream",
     "text": [
      "\u001b[1m14/14\u001b[0m \u001b[32m━━━━━━━━━━━━━━━━━━━━\u001b[0m\u001b[37m\u001b[0m \u001b[1m0s\u001b[0m 12ms/step - loss: 0.0027 - mae: 0.0286 - val_loss: 1.0723e-04 - val_mae: 0.0048 - learning_rate: 9.0000e-08\n",
      "Epoch 76/100\n",
      "\u001b[1m 8/14\u001b[0m \u001b[32m━━━━━━━━━━━\u001b[0m\u001b[37m━━━━━━━━━\u001b[0m \u001b[1m0s\u001b[0m 8ms/step - loss: 0.0031 - mae: 0.0290 \n",
      "Epoch 76: val_loss improved from 0.00011 to 0.00011, saving model to LSTM-weights-best.h5\n"
     ]
    },
    {
     "name": "stderr",
     "output_type": "stream",
     "text": [
      "WARNING:absl:You are saving your model as an HDF5 file via `model.save()` or `keras.saving.save_model(model)`. This file format is considered legacy. We recommend using instead the native Keras format, e.g. `model.save('my_model.keras')` or `keras.saving.save_model(model, 'my_model.keras')`. \n"
     ]
    },
    {
     "name": "stdout",
     "output_type": "stream",
     "text": [
      "\n",
      "Epoch 76: ReduceLROnPlateau reducing learning rate to 9.000000034120604e-09.\n",
      "\u001b[1m14/14\u001b[0m \u001b[32m━━━━━━━━━━━━━━━━━━━━\u001b[0m\u001b[37m\u001b[0m \u001b[1m0s\u001b[0m 11ms/step - loss: 0.0029 - mae: 0.0287 - val_loss: 1.0723e-04 - val_mae: 0.0048 - learning_rate: 9.0000e-08\n",
      "Epoch 77/100\n",
      "\u001b[1m13/14\u001b[0m \u001b[32m━━━━━━━━━━━━━━━━━━\u001b[0m\u001b[37m━━\u001b[0m \u001b[1m0s\u001b[0m 8ms/step - loss: 0.0023 - mae: 0.0275\n",
      "Epoch 77: val_loss improved from 0.00011 to 0.00011, saving model to LSTM-weights-best.h5\n"
     ]
    },
    {
     "name": "stderr",
     "output_type": "stream",
     "text": [
      "WARNING:absl:You are saving your model as an HDF5 file via `model.save()` or `keras.saving.save_model(model)`. This file format is considered legacy. We recommend using instead the native Keras format, e.g. `model.save('my_model.keras')` or `keras.saving.save_model(model, 'my_model.keras')`. \n"
     ]
    },
    {
     "name": "stdout",
     "output_type": "stream",
     "text": [
      "\u001b[1m14/14\u001b[0m \u001b[32m━━━━━━━━━━━━━━━━━━━━\u001b[0m\u001b[37m\u001b[0m \u001b[1m0s\u001b[0m 12ms/step - loss: 0.0027 - mae: 0.0282 - val_loss: 1.0723e-04 - val_mae: 0.0048 - learning_rate: 9.0000e-09\n",
      "Epoch 78/100\n",
      "\u001b[1m14/14\u001b[0m \u001b[32m━━━━━━━━━━━━━━━━━━━━\u001b[0m\u001b[37m\u001b[0m \u001b[1m0s\u001b[0m 8ms/step - loss: 0.0024 - mae: 0.0277\n",
      "Epoch 78: val_loss improved from 0.00011 to 0.00011, saving model to LSTM-weights-best.h5\n"
     ]
    },
    {
     "name": "stderr",
     "output_type": "stream",
     "text": [
      "WARNING:absl:You are saving your model as an HDF5 file via `model.save()` or `keras.saving.save_model(model)`. This file format is considered legacy. We recommend using instead the native Keras format, e.g. `model.save('my_model.keras')` or `keras.saving.save_model(model, 'my_model.keras')`. \n"
     ]
    },
    {
     "name": "stdout",
     "output_type": "stream",
     "text": [
      "\u001b[1m14/14\u001b[0m \u001b[32m━━━━━━━━━━━━━━━━━━━━\u001b[0m\u001b[37m\u001b[0m \u001b[1m0s\u001b[0m 11ms/step - loss: 0.0026 - mae: 0.0282 - val_loss: 1.0723e-04 - val_mae: 0.0048 - learning_rate: 9.0000e-09\n",
      "Epoch 79/100\n",
      "\u001b[1m13/14\u001b[0m \u001b[32m━━━━━━━━━━━━━━━━━━\u001b[0m\u001b[37m━━\u001b[0m \u001b[1m0s\u001b[0m 8ms/step - loss: 0.0029 - mae: 0.0289\n",
      "Epoch 79: val_loss improved from 0.00011 to 0.00011, saving model to LSTM-weights-best.h5\n"
     ]
    },
    {
     "name": "stderr",
     "output_type": "stream",
     "text": [
      "WARNING:absl:You are saving your model as an HDF5 file via `model.save()` or `keras.saving.save_model(model)`. This file format is considered legacy. We recommend using instead the native Keras format, e.g. `model.save('my_model.keras')` or `keras.saving.save_model(model, 'my_model.keras')`. \n"
     ]
    },
    {
     "name": "stdout",
     "output_type": "stream",
     "text": [
      "\u001b[1m14/14\u001b[0m \u001b[32m━━━━━━━━━━━━━━━━━━━━\u001b[0m\u001b[37m\u001b[0m \u001b[1m0s\u001b[0m 12ms/step - loss: 0.0026 - mae: 0.0285 - val_loss: 1.0723e-04 - val_mae: 0.0048 - learning_rate: 9.0000e-09\n",
      "Epoch 80/100\n",
      "\u001b[1m14/14\u001b[0m \u001b[32m━━━━━━━━━━━━━━━━━━━━\u001b[0m\u001b[37m\u001b[0m \u001b[1m0s\u001b[0m 8ms/step - loss: 0.0027 - mae: 0.0278\n",
      "Epoch 80: val_loss improved from 0.00011 to 0.00011, saving model to LSTM-weights-best.h5\n"
     ]
    },
    {
     "name": "stderr",
     "output_type": "stream",
     "text": [
      "WARNING:absl:You are saving your model as an HDF5 file via `model.save()` or `keras.saving.save_model(model)`. This file format is considered legacy. We recommend using instead the native Keras format, e.g. `model.save('my_model.keras')` or `keras.saving.save_model(model, 'my_model.keras')`. \n"
     ]
    },
    {
     "name": "stdout",
     "output_type": "stream",
     "text": [
      "\u001b[1m14/14\u001b[0m \u001b[32m━━━━━━━━━━━━━━━━━━━━\u001b[0m\u001b[37m\u001b[0m \u001b[1m0s\u001b[0m 11ms/step - loss: 0.0026 - mae: 0.0279 - val_loss: 1.0723e-04 - val_mae: 0.0048 - learning_rate: 9.0000e-09\n",
      "Epoch 81/100\n",
      "\u001b[1m12/14\u001b[0m \u001b[32m━━━━━━━━━━━━━━━━━\u001b[0m\u001b[37m━━━\u001b[0m \u001b[1m0s\u001b[0m 15ms/step - loss: 0.0024 - mae: 0.0282\n",
      "Epoch 81: val_loss improved from 0.00011 to 0.00011, saving model to LSTM-weights-best.h5\n"
     ]
    },
    {
     "name": "stderr",
     "output_type": "stream",
     "text": [
      "WARNING:absl:You are saving your model as an HDF5 file via `model.save()` or `keras.saving.save_model(model)`. This file format is considered legacy. We recommend using instead the native Keras format, e.g. `model.save('my_model.keras')` or `keras.saving.save_model(model, 'my_model.keras')`. \n"
     ]
    },
    {
     "name": "stdout",
     "output_type": "stream",
     "text": [
      "\u001b[1m14/14\u001b[0m \u001b[32m━━━━━━━━━━━━━━━━━━━━\u001b[0m\u001b[37m\u001b[0m \u001b[1m0s\u001b[0m 17ms/step - loss: 0.0026 - mae: 0.0283 - val_loss: 1.0723e-04 - val_mae: 0.0048 - learning_rate: 9.0000e-09\n",
      "Epoch 82/100\n",
      "\u001b[1m 8/14\u001b[0m \u001b[32m━━━━━━━━━━━\u001b[0m\u001b[37m━━━━━━━━━\u001b[0m \u001b[1m0s\u001b[0m 8ms/step - loss: 0.0025 - mae: 0.0282 \n",
      "Epoch 82: val_loss improved from 0.00011 to 0.00011, saving model to LSTM-weights-best.h5\n"
     ]
    },
    {
     "name": "stderr",
     "output_type": "stream",
     "text": [
      "WARNING:absl:You are saving your model as an HDF5 file via `model.save()` or `keras.saving.save_model(model)`. This file format is considered legacy. We recommend using instead the native Keras format, e.g. `model.save('my_model.keras')` or `keras.saving.save_model(model, 'my_model.keras')`. \n"
     ]
    },
    {
     "name": "stdout",
     "output_type": "stream",
     "text": [
      "\u001b[1m14/14\u001b[0m \u001b[32m━━━━━━━━━━━━━━━━━━━━\u001b[0m\u001b[37m\u001b[0m \u001b[1m0s\u001b[0m 11ms/step - loss: 0.0026 - mae: 0.0285 - val_loss: 1.0723e-04 - val_mae: 0.0048 - learning_rate: 9.0000e-09\n",
      "Epoch 83/100\n",
      "\u001b[1m 8/14\u001b[0m \u001b[32m━━━━━━━━━━━\u001b[0m\u001b[37m━━━━━━━━━\u001b[0m \u001b[1m0s\u001b[0m 8ms/step - loss: 0.0027 - mae: 0.0281 \n",
      "Epoch 83: val_loss improved from 0.00011 to 0.00011, saving model to LSTM-weights-best.h5\n"
     ]
    },
    {
     "name": "stderr",
     "output_type": "stream",
     "text": [
      "WARNING:absl:You are saving your model as an HDF5 file via `model.save()` or `keras.saving.save_model(model)`. This file format is considered legacy. We recommend using instead the native Keras format, e.g. `model.save('my_model.keras')` or `keras.saving.save_model(model, 'my_model.keras')`. \n"
     ]
    },
    {
     "name": "stdout",
     "output_type": "stream",
     "text": [
      "\u001b[1m14/14\u001b[0m \u001b[32m━━━━━━━━━━━━━━━━━━━━\u001b[0m\u001b[37m\u001b[0m \u001b[1m0s\u001b[0m 11ms/step - loss: 0.0026 - mae: 0.0278 - val_loss: 1.0723e-04 - val_mae: 0.0048 - learning_rate: 9.0000e-09\n",
      "Epoch 84/100\n",
      "\u001b[1m 8/14\u001b[0m \u001b[32m━━━━━━━━━━━\u001b[0m\u001b[37m━━━━━━━━━\u001b[0m \u001b[1m0s\u001b[0m 8ms/step - loss: 0.0023 - mae: 0.0275 \n",
      "Epoch 84: val_loss improved from 0.00011 to 0.00011, saving model to LSTM-weights-best.h5\n"
     ]
    },
    {
     "name": "stderr",
     "output_type": "stream",
     "text": [
      "WARNING:absl:You are saving your model as an HDF5 file via `model.save()` or `keras.saving.save_model(model)`. This file format is considered legacy. We recommend using instead the native Keras format, e.g. `model.save('my_model.keras')` or `keras.saving.save_model(model, 'my_model.keras')`. \n"
     ]
    },
    {
     "name": "stdout",
     "output_type": "stream",
     "text": [
      "\u001b[1m14/14\u001b[0m \u001b[32m━━━━━━━━━━━━━━━━━━━━\u001b[0m\u001b[37m\u001b[0m \u001b[1m0s\u001b[0m 11ms/step - loss: 0.0023 - mae: 0.0276 - val_loss: 1.0723e-04 - val_mae: 0.0048 - learning_rate: 9.0000e-09\n",
      "Epoch 85/100\n",
      "\u001b[1m 8/14\u001b[0m \u001b[32m━━━━━━━━━━━\u001b[0m\u001b[37m━━━━━━━━━\u001b[0m \u001b[1m0s\u001b[0m 8ms/step - loss: 0.0029 - mae: 0.0288 \n",
      "Epoch 85: val_loss improved from 0.00011 to 0.00011, saving model to LSTM-weights-best.h5\n"
     ]
    },
    {
     "name": "stderr",
     "output_type": "stream",
     "text": [
      "WARNING:absl:You are saving your model as an HDF5 file via `model.save()` or `keras.saving.save_model(model)`. This file format is considered legacy. We recommend using instead the native Keras format, e.g. `model.save('my_model.keras')` or `keras.saving.save_model(model, 'my_model.keras')`. \n"
     ]
    },
    {
     "name": "stdout",
     "output_type": "stream",
     "text": [
      "\u001b[1m14/14\u001b[0m \u001b[32m━━━━━━━━━━━━━━━━━━━━\u001b[0m\u001b[37m\u001b[0m \u001b[1m0s\u001b[0m 11ms/step - loss: 0.0027 - mae: 0.0287 - val_loss: 1.0722e-04 - val_mae: 0.0048 - learning_rate: 9.0000e-09\n",
      "Epoch 86/100\n",
      "\u001b[1m 8/14\u001b[0m \u001b[32m━━━━━━━━━━━\u001b[0m\u001b[37m━━━━━━━━━\u001b[0m \u001b[1m0s\u001b[0m 8ms/step - loss: 0.0027 - mae: 0.0283 \n",
      "Epoch 86: val_loss improved from 0.00011 to 0.00011, saving model to LSTM-weights-best.h5\n"
     ]
    },
    {
     "name": "stderr",
     "output_type": "stream",
     "text": [
      "WARNING:absl:You are saving your model as an HDF5 file via `model.save()` or `keras.saving.save_model(model)`. This file format is considered legacy. We recommend using instead the native Keras format, e.g. `model.save('my_model.keras')` or `keras.saving.save_model(model, 'my_model.keras')`. \n"
     ]
    },
    {
     "name": "stdout",
     "output_type": "stream",
     "text": [
      "\n",
      "Epoch 86: ReduceLROnPlateau reducing learning rate to 8.99999985648492e-10.\n",
      "\u001b[1m14/14\u001b[0m \u001b[32m━━━━━━━━━━━━━━━━━━━━\u001b[0m\u001b[37m\u001b[0m \u001b[1m0s\u001b[0m 11ms/step - loss: 0.0026 - mae: 0.0284 - val_loss: 1.0722e-04 - val_mae: 0.0048 - learning_rate: 9.0000e-09\n",
      "Epoch 87/100\n",
      "\u001b[1m14/14\u001b[0m \u001b[32m━━━━━━━━━━━━━━━━━━━━\u001b[0m\u001b[37m\u001b[0m \u001b[1m0s\u001b[0m 8ms/step - loss: 0.0028 - mae: 0.0279\n",
      "Epoch 87: val_loss improved from 0.00011 to 0.00011, saving model to LSTM-weights-best.h5\n"
     ]
    },
    {
     "name": "stderr",
     "output_type": "stream",
     "text": [
      "WARNING:absl:You are saving your model as an HDF5 file via `model.save()` or `keras.saving.save_model(model)`. This file format is considered legacy. We recommend using instead the native Keras format, e.g. `model.save('my_model.keras')` or `keras.saving.save_model(model, 'my_model.keras')`. \n"
     ]
    },
    {
     "name": "stdout",
     "output_type": "stream",
     "text": [
      "\u001b[1m14/14\u001b[0m \u001b[32m━━━━━━━━━━━━━━━━━━━━\u001b[0m\u001b[37m\u001b[0m \u001b[1m0s\u001b[0m 11ms/step - loss: 0.0028 - mae: 0.0282 - val_loss: 1.0722e-04 - val_mae: 0.0048 - learning_rate: 9.0000e-10\n",
      "Epoch 88/100\n",
      "\u001b[1m14/14\u001b[0m \u001b[32m━━━━━━━━━━━━━━━━━━━━\u001b[0m\u001b[37m\u001b[0m \u001b[1m0s\u001b[0m 8ms/step - loss: 0.0026 - mae: 0.0283\n",
      "Epoch 88: val_loss improved from 0.00011 to 0.00011, saving model to LSTM-weights-best.h5\n"
     ]
    },
    {
     "name": "stderr",
     "output_type": "stream",
     "text": [
      "WARNING:absl:You are saving your model as an HDF5 file via `model.save()` or `keras.saving.save_model(model)`. This file format is considered legacy. We recommend using instead the native Keras format, e.g. `model.save('my_model.keras')` or `keras.saving.save_model(model, 'my_model.keras')`. \n"
     ]
    },
    {
     "name": "stdout",
     "output_type": "stream",
     "text": [
      "\u001b[1m14/14\u001b[0m \u001b[32m━━━━━━━━━━━━━━━━━━━━\u001b[0m\u001b[37m\u001b[0m \u001b[1m0s\u001b[0m 11ms/step - loss: 0.0026 - mae: 0.0286 - val_loss: 1.0722e-04 - val_mae: 0.0048 - learning_rate: 9.0000e-10\n",
      "Epoch 89/100\n",
      "\u001b[1m13/14\u001b[0m \u001b[32m━━━━━━━━━━━━━━━━━━\u001b[0m\u001b[37m━━\u001b[0m \u001b[1m0s\u001b[0m 8ms/step - loss: 0.0023 - mae: 0.0275\n",
      "Epoch 89: val_loss improved from 0.00011 to 0.00011, saving model to LSTM-weights-best.h5\n"
     ]
    },
    {
     "name": "stderr",
     "output_type": "stream",
     "text": [
      "WARNING:absl:You are saving your model as an HDF5 file via `model.save()` or `keras.saving.save_model(model)`. This file format is considered legacy. We recommend using instead the native Keras format, e.g. `model.save('my_model.keras')` or `keras.saving.save_model(model, 'my_model.keras')`. \n"
     ]
    },
    {
     "name": "stdout",
     "output_type": "stream",
     "text": [
      "\u001b[1m14/14\u001b[0m \u001b[32m━━━━━━━━━━━━━━━━━━━━\u001b[0m\u001b[37m\u001b[0m \u001b[1m0s\u001b[0m 12ms/step - loss: 0.0024 - mae: 0.0279 - val_loss: 1.0722e-04 - val_mae: 0.0048 - learning_rate: 9.0000e-10\n",
      "Epoch 90/100\n",
      "\u001b[1m14/14\u001b[0m \u001b[32m━━━━━━━━━━━━━━━━━━━━\u001b[0m\u001b[37m\u001b[0m \u001b[1m0s\u001b[0m 8ms/step - loss: 0.0027 - mae: 0.0289\n",
      "Epoch 90: val_loss improved from 0.00011 to 0.00011, saving model to LSTM-weights-best.h5\n"
     ]
    },
    {
     "name": "stderr",
     "output_type": "stream",
     "text": [
      "WARNING:absl:You are saving your model as an HDF5 file via `model.save()` or `keras.saving.save_model(model)`. This file format is considered legacy. We recommend using instead the native Keras format, e.g. `model.save('my_model.keras')` or `keras.saving.save_model(model, 'my_model.keras')`. \n"
     ]
    },
    {
     "name": "stdout",
     "output_type": "stream",
     "text": [
      "\u001b[1m14/14\u001b[0m \u001b[32m━━━━━━━━━━━━━━━━━━━━\u001b[0m\u001b[37m\u001b[0m \u001b[1m0s\u001b[0m 12ms/step - loss: 0.0025 - mae: 0.0284 - val_loss: 1.0722e-04 - val_mae: 0.0048 - learning_rate: 9.0000e-10\n",
      "Epoch 91/100\n",
      "\u001b[1m14/14\u001b[0m \u001b[32m━━━━━━━━━━━━━━━━━━━━\u001b[0m\u001b[37m\u001b[0m \u001b[1m0s\u001b[0m 8ms/step - loss: 0.0026 - mae: 0.0288\n",
      "Epoch 91: val_loss improved from 0.00011 to 0.00011, saving model to LSTM-weights-best.h5\n"
     ]
    },
    {
     "name": "stderr",
     "output_type": "stream",
     "text": [
      "WARNING:absl:You are saving your model as an HDF5 file via `model.save()` or `keras.saving.save_model(model)`. This file format is considered legacy. We recommend using instead the native Keras format, e.g. `model.save('my_model.keras')` or `keras.saving.save_model(model, 'my_model.keras')`. \n"
     ]
    },
    {
     "name": "stdout",
     "output_type": "stream",
     "text": [
      "\u001b[1m14/14\u001b[0m \u001b[32m━━━━━━━━━━━━━━━━━━━━\u001b[0m\u001b[37m\u001b[0m \u001b[1m0s\u001b[0m 11ms/step - loss: 0.0026 - mae: 0.0287 - val_loss: 1.0722e-04 - val_mae: 0.0048 - learning_rate: 9.0000e-10\n",
      "Epoch 92/100\n",
      "\u001b[1m 8/14\u001b[0m \u001b[32m━━━━━━━━━━━\u001b[0m\u001b[37m━━━━━━━━━\u001b[0m \u001b[1m0s\u001b[0m 8ms/step - loss: 0.0029 - mae: 0.0292 \n",
      "Epoch 92: val_loss improved from 0.00011 to 0.00011, saving model to LSTM-weights-best.h5\n"
     ]
    },
    {
     "name": "stderr",
     "output_type": "stream",
     "text": [
      "WARNING:absl:You are saving your model as an HDF5 file via `model.save()` or `keras.saving.save_model(model)`. This file format is considered legacy. We recommend using instead the native Keras format, e.g. `model.save('my_model.keras')` or `keras.saving.save_model(model, 'my_model.keras')`. \n"
     ]
    },
    {
     "name": "stdout",
     "output_type": "stream",
     "text": [
      "\u001b[1m14/14\u001b[0m \u001b[32m━━━━━━━━━━━━━━━━━━━━\u001b[0m\u001b[37m\u001b[0m \u001b[1m0s\u001b[0m 12ms/step - loss: 0.0027 - mae: 0.0282 - val_loss: 1.0722e-04 - val_mae: 0.0048 - learning_rate: 9.0000e-10\n",
      "Epoch 93/100\n",
      "\u001b[1m13/14\u001b[0m \u001b[32m━━━━━━━━━━━━━━━━━━\u001b[0m\u001b[37m━━\u001b[0m \u001b[1m0s\u001b[0m 9ms/step - loss: 0.0026 - mae: 0.0285\n",
      "Epoch 93: val_loss improved from 0.00011 to 0.00011, saving model to LSTM-weights-best.h5\n"
     ]
    },
    {
     "name": "stderr",
     "output_type": "stream",
     "text": [
      "WARNING:absl:You are saving your model as an HDF5 file via `model.save()` or `keras.saving.save_model(model)`. This file format is considered legacy. We recommend using instead the native Keras format, e.g. `model.save('my_model.keras')` or `keras.saving.save_model(model, 'my_model.keras')`. \n"
     ]
    },
    {
     "name": "stdout",
     "output_type": "stream",
     "text": [
      "\u001b[1m14/14\u001b[0m \u001b[32m━━━━━━━━━━━━━━━━━━━━\u001b[0m\u001b[37m\u001b[0m \u001b[1m0s\u001b[0m 12ms/step - loss: 0.0026 - mae: 0.0284 - val_loss: 1.0722e-04 - val_mae: 0.0048 - learning_rate: 9.0000e-10\n",
      "Epoch 94/100\n",
      "\u001b[1m 8/14\u001b[0m \u001b[32m━━━━━━━━━━━\u001b[0m\u001b[37m━━━━━━━━━\u001b[0m \u001b[1m0s\u001b[0m 8ms/step - loss: 0.0020 - mae: 0.0265 \n",
      "Epoch 94: val_loss improved from 0.00011 to 0.00011, saving model to LSTM-weights-best.h5\n"
     ]
    },
    {
     "name": "stderr",
     "output_type": "stream",
     "text": [
      "WARNING:absl:You are saving your model as an HDF5 file via `model.save()` or `keras.saving.save_model(model)`. This file format is considered legacy. We recommend using instead the native Keras format, e.g. `model.save('my_model.keras')` or `keras.saving.save_model(model, 'my_model.keras')`. \n"
     ]
    },
    {
     "name": "stdout",
     "output_type": "stream",
     "text": [
      "\u001b[1m14/14\u001b[0m \u001b[32m━━━━━━━━━━━━━━━━━━━━\u001b[0m\u001b[37m\u001b[0m \u001b[1m0s\u001b[0m 11ms/step - loss: 0.0023 - mae: 0.0277 - val_loss: 1.0722e-04 - val_mae: 0.0048 - learning_rate: 9.0000e-10\n",
      "Epoch 95/100\n",
      "\u001b[1m 8/14\u001b[0m \u001b[32m━━━━━━━━━━━\u001b[0m\u001b[37m━━━━━━━━━\u001b[0m \u001b[1m0s\u001b[0m 8ms/step - loss: 0.0033 - mae: 0.0295 \n",
      "Epoch 95: val_loss improved from 0.00011 to 0.00011, saving model to LSTM-weights-best.h5\n"
     ]
    },
    {
     "name": "stderr",
     "output_type": "stream",
     "text": [
      "WARNING:absl:You are saving your model as an HDF5 file via `model.save()` or `keras.saving.save_model(model)`. This file format is considered legacy. We recommend using instead the native Keras format, e.g. `model.save('my_model.keras')` or `keras.saving.save_model(model, 'my_model.keras')`. \n"
     ]
    },
    {
     "name": "stdout",
     "output_type": "stream",
     "text": [
      "\u001b[1m14/14\u001b[0m \u001b[32m━━━━━━━━━━━━━━━━━━━━\u001b[0m\u001b[37m\u001b[0m \u001b[1m0s\u001b[0m 11ms/step - loss: 0.0030 - mae: 0.0287 - val_loss: 1.0722e-04 - val_mae: 0.0048 - learning_rate: 9.0000e-10\n",
      "Epoch 96/100\n",
      "\u001b[1m14/14\u001b[0m \u001b[32m━━━━━━━━━━━━━━━━━━━━\u001b[0m\u001b[37m\u001b[0m \u001b[1m0s\u001b[0m 8ms/step - loss: 0.0028 - mae: 0.0291\n",
      "Epoch 96: val_loss improved from 0.00011 to 0.00011, saving model to LSTM-weights-best.h5\n"
     ]
    },
    {
     "name": "stderr",
     "output_type": "stream",
     "text": [
      "WARNING:absl:You are saving your model as an HDF5 file via `model.save()` or `keras.saving.save_model(model)`. This file format is considered legacy. We recommend using instead the native Keras format, e.g. `model.save('my_model.keras')` or `keras.saving.save_model(model, 'my_model.keras')`. \n"
     ]
    },
    {
     "name": "stdout",
     "output_type": "stream",
     "text": [
      "\n",
      "Epoch 96: ReduceLROnPlateau reducing learning rate to 8.999999634440315e-11.\n",
      "\u001b[1m14/14\u001b[0m \u001b[32m━━━━━━━━━━━━━━━━━━━━\u001b[0m\u001b[37m\u001b[0m \u001b[1m0s\u001b[0m 12ms/step - loss: 0.0028 - mae: 0.0288 - val_loss: 1.0722e-04 - val_mae: 0.0048 - learning_rate: 9.0000e-10\n",
      "Epoch 97/100\n",
      "\u001b[1m 8/14\u001b[0m \u001b[32m━━━━━━━━━━━\u001b[0m\u001b[37m━━━━━━━━━\u001b[0m \u001b[1m0s\u001b[0m 8ms/step - loss: 0.0024 - mae: 0.0275 \n",
      "Epoch 97: val_loss improved from 0.00011 to 0.00011, saving model to LSTM-weights-best.h5\n"
     ]
    },
    {
     "name": "stderr",
     "output_type": "stream",
     "text": [
      "WARNING:absl:You are saving your model as an HDF5 file via `model.save()` or `keras.saving.save_model(model)`. This file format is considered legacy. We recommend using instead the native Keras format, e.g. `model.save('my_model.keras')` or `keras.saving.save_model(model, 'my_model.keras')`. \n"
     ]
    },
    {
     "name": "stdout",
     "output_type": "stream",
     "text": [
      "\u001b[1m14/14\u001b[0m \u001b[32m━━━━━━━━━━━━━━━━━━━━\u001b[0m\u001b[37m\u001b[0m \u001b[1m0s\u001b[0m 12ms/step - loss: 0.0025 - mae: 0.0280 - val_loss: 1.0722e-04 - val_mae: 0.0048 - learning_rate: 9.0000e-11\n",
      "Epoch 98/100\n",
      "\u001b[1m13/14\u001b[0m \u001b[32m━━━━━━━━━━━━━━━━━━\u001b[0m\u001b[37m━━\u001b[0m \u001b[1m0s\u001b[0m 9ms/step - loss: 0.0025 - mae: 0.0284\n",
      "Epoch 98: val_loss did not improve from 0.00011\n",
      "\u001b[1m14/14\u001b[0m \u001b[32m━━━━━━━━━━━━━━━━━━━━\u001b[0m\u001b[37m\u001b[0m \u001b[1m0s\u001b[0m 11ms/step - loss: 0.0025 - mae: 0.0284 - val_loss: 1.0722e-04 - val_mae: 0.0048 - learning_rate: 9.0000e-11\n",
      "Epoch 99/100\n",
      "\u001b[1m13/14\u001b[0m \u001b[32m━━━━━━━━━━━━━━━━━━\u001b[0m\u001b[37m━━\u001b[0m \u001b[1m0s\u001b[0m 14ms/step - loss: 0.0023 - mae: 0.0275\n",
      "Epoch 99: val_loss did not improve from 0.00011\n",
      "\u001b[1m14/14\u001b[0m \u001b[32m━━━━━━━━━━━━━━━━━━━━\u001b[0m\u001b[37m\u001b[0m \u001b[1m0s\u001b[0m 16ms/step - loss: 0.0026 - mae: 0.0281 - val_loss: 1.0722e-04 - val_mae: 0.0048 - learning_rate: 9.0000e-11\n",
      "Epoch 100/100\n",
      "\u001b[1m14/14\u001b[0m \u001b[32m━━━━━━━━━━━━━━━━━━━━\u001b[0m\u001b[37m\u001b[0m \u001b[1m0s\u001b[0m 8ms/step - loss: 0.0027 - mae: 0.0284\n",
      "Epoch 100: val_loss did not improve from 0.00011\n",
      "\u001b[1m14/14\u001b[0m \u001b[32m━━━━━━━━━━━━━━━━━━━━\u001b[0m\u001b[37m\u001b[0m \u001b[1m0s\u001b[0m 11ms/step - loss: 0.0026 - mae: 0.0281 - val_loss: 1.0722e-04 - val_mae: 0.0048 - learning_rate: 9.0000e-11\n",
      "{'test_loss': 0.00010722415754571557, 'test_mae': 0.004779784940183163}\n",
      "Training time (s): 18.30892276763916\n",
      "4. Generating predictions and evaluating...\n",
      "Test MAE per horizon: [0.0025236  0.00220367 0.00192779 0.00244412 0.00230014 0.00255726\n",
      " 0.00269135 0.00226918 0.00259224 0.00290534 0.0032573  0.00321101\n",
      " 0.00278376 0.00303067 0.00303617 0.00302762 0.00343513 0.00320743\n",
      " 0.00323359 0.00307795 0.00300796 0.00398606 0.00381749 0.00355636\n",
      " 0.00382805 0.00375903 0.00393648 0.00375154 0.00375144 0.00451937]\n",
      "Test RMSE per horizon: [0.00641759 0.00567496 0.00433325 0.00718012 0.00535349 0.00786398\n",
      " 0.00586326 0.00504581 0.00556565 0.00592653 0.00707482 0.00711415\n",
      " 0.0056579  0.00686023 0.00675715 0.0059559  0.00799987 0.00834012\n",
      " 0.00691769 0.00526632 0.00538623 0.00959552 0.00723061 0.0063871\n",
      " 0.00743389 0.00679261 0.00624321 0.0067491  0.00702112 0.00976534]\n",
      "RMSPE (H+1): 0.9818%\n",
      "=== Training Pipeline Complete ===\n"
     ]
    }
   ],
   "source": [
    "# Train the model with default parameters\n",
    "model.fit(\n",
    "    seq_len=20, \n",
    "    forecast_horizon=30, \n",
    "    epochs=100, \n",
    "    batch_size=256, \n",
    "    validation_split=0.2, \n",
    "    patience=20, \n",
    "    verbose=1\n",
    ")"
   ]
  },
  {
   "cell_type": "code",
   "execution_count": null,
   "id": "cf18a64b",
   "metadata": {},
   "outputs": [
    {
     "data": {
      "image/png": "[encoded data removed]",
      "text/plain": [
       "<Figure size 1200x500 with 1 Axes>"
      ]
     },
     "metadata": {},
     "output_type": "display_data"
    },
    {
     "data": {
      "image/png": "[encoded data removed]",
      "text/plain": [
       "<Figure size 800x400 with 1 Axes>"
      ]
     },
     "metadata": {},
     "output_type": "display_data"
    }
   ],
   "source": [
    "# Plot predictions for horizon H+11 (index 10)\n",
    "model.plot_results(N=100, horizon=10)\n",
    "\n",
    "# Plot MAE by horizon\n",
    "model.plot_metrics_by_horizon()"
   ]
  }
 ],
 "metadata": {
  "kernelspec": {
   "display_name": "py312",
   "language": "python",
   "name": "python3"
  },
  "language_info": {
   "codemirror_mode": {
    "name": "ipython",
    "version": 3
   },
   "file_extension": ".py",
   "mimetype": "text/x-python",
   "name": "python",
   "nbconvert_exporter": "python",
   "pygments_lexer": "ipython3",
   "version": "3.12.11"
  }
 },
 "nbformat": 4,
 "nbformat_minor": 5
}
